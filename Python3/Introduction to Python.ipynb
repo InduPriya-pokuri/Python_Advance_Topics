{
 "cells": [
  {
   "cell_type": "code",
   "execution_count": 3,
   "metadata": {},
   "outputs": [
    {
     "name": "stdout",
     "output_type": "stream",
     "text": [
      "\n"
     ]
    }
   ],
   "source": [
    "print()"
   ]
  },
  {
   "cell_type": "markdown",
   "metadata": {},
   "source": [
    "Python is an object oriented ,HLL and interpreted language  and it is a dynamically typed language"
   ]
  },
  {
   "cell_type": "markdown",
   "metadata": {},
   "source": [
    "### Data types"
   ]
  },
  {
   "cell_type": "markdown",
   "metadata": {},
   "source": [
    "integer -> number=10\n",
    "\n",
    "floating values ->cgpa=8.7\n",
    "\n",
    "string -> name=\"ruthu\"\n",
    "\n",
    "list-> list(1,2,34)"
   ]
  },
  {
   "cell_type": "code",
   "execution_count": 4,
   "metadata": {
    "collapsed": true
   },
   "outputs": [
    {
     "name": "stdout",
     "output_type": "stream",
     "text": [
      "<class 'int'>\n",
      "<class 'float'>\n",
      "<class 'str'>\n"
     ]
    }
   ],
   "source": [
    "print(type(10))\n",
    "print(type(8.5))\n",
    "print(type(\"ruthu\"))"
   ]
  },
  {
   "cell_type": "markdown",
   "metadata": {},
   "source": [
    "### range()\n",
    " - a method is used to the sequence of no.s / variables\n",
    "     - range(upper_bound)\n",
    "     - range(lower_bound,upper_bound)\n",
    "     - range(lower_bound,upper_bound,step_count)"
   ]
  },
  {
   "cell_type": "code",
   "execution_count": 9,
   "metadata": {
    "collapsed": true
   },
   "outputs": [
    {
     "name": "stdout",
     "output_type": "stream",
     "text": [
      "0 1 2 3 4 5 6 7 8 \n",
      "1 2 3 4 5 6 7 8 9 \n",
      "1 3 5 7 9 11 "
     ]
    }
   ],
   "source": [
    "for num in range(9):\n",
    "    print(num,end=\" \")\n",
    "print()\n",
    "for num2 in range(1,10):\n",
    "    print(num2,end=\" \")\n",
    "print()\n",
    "for num3 in range(1,12,2):\n",
    "    print(num3,end=\" \")"
   ]
  },
  {
   "cell_type": "markdown",
   "metadata": {},
   "source": [
    "### Variables\n",
    "- A variable is container like structure to store the values of different types\n",
    "     - 2 types:\n",
    "         1) Global and \n",
    "         2) Local"
   ]
  },
  {
   "cell_type": "code",
   "execution_count": 6,
   "metadata": {
    "collapsed": true
   },
   "outputs": [
    {
     "name": "stdout",
     "output_type": "stream",
     "text": [
      "printing local variable..\n",
      "hi\n",
      "hi\n",
      "hi\n",
      "hi\n",
      "printing global variable..\n",
      "hello\n"
     ]
    }
   ],
   "source": [
    "global_var=\"hello\"\n",
    "print(\"printing local variable..\")\n",
    "for num in range(4):\n",
    "    local_var=\"hi\"\n",
    "    print(local_var)\n",
    "print(\"printing global variable..\")\n",
    "print(global_var)"
   ]
  },
  {
   "cell_type": "markdown",
   "metadata": {},
   "source": [
    "### Conditional Statements\n",
    "- Condition based executed statements\n",
    "    - if\n",
    "    - else-if(elif)\n",
    "    - else"
   ]
  },
  {
   "cell_type": "code",
   "execution_count": 11,
   "metadata": {
    "collapsed": true
   },
   "outputs": [
    {
     "name": "stdout",
     "output_type": "stream",
     "text": [
      "printing x value: 10\n",
      "priting y value: 67.98\n",
      "printing the name: name\n"
     ]
    }
   ],
   "source": [
    "x=10\n",
    "y=67.98\n",
    "st=\"name\"\n",
    "print(\"printing x value:\",x)\n",
    "print(\"priting y value:\",y)\n",
    "print(\"printing the name:\",st)"
   ]
  },
  {
   "cell_type": "code",
   "execution_count": 12,
   "metadata": {},
   "outputs": [],
   "source": [
    "# Instead of declaring take the input from integer"
   ]
  },
  {
   "cell_type": "code",
   "execution_count": null,
   "metadata": {},
   "outputs": [],
   "source": [
    "st=input()\n",
    "num=int(input())\n",
    "fl=float(input())\n",
    "print(\"string is \",st)\n",
    "print(\"number is \",num)\n",
    "print(\"floating value is \",fl)"
   ]
  },
  {
   "cell_type": "code",
   "execution_count": null,
   "metadata": {},
   "outputs": [],
   "source": []
  }
 ],
 "metadata": {
  "kernelspec": {
   "display_name": "Python 3",
   "language": "python",
   "name": "python3"
  },
  "language_info": {
   "codemirror_mode": {
    "name": "ipython",
    "version": 3
   },
   "file_extension": ".py",
   "mimetype": "text/x-python",
   "name": "python",
   "nbconvert_exporter": "python",
   "pygments_lexer": "ipython3",
   "version": "3.7.4"
  }
 },
 "nbformat": 4,
 "nbformat_minor": 2
}
