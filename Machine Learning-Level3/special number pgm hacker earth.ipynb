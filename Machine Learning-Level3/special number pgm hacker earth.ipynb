{
 "cells": [
  {
   "cell_type": "markdown",
   "metadata": {},
   "source": [
    "Special Number program\n",
    "\n",
    "\n",
    "4 0\n",
    "5 0\n",
    "6 0\n",
    "7 0\n",
    "8 1\n",
    "Sum of any two distinct single digit odd prime number with each of the prime number having a +ve power\n",
    "3 5 7\n",
    "\n",
    "8-> 3^1 + 5^1\n",
    "\n",
    "7->\n",
    "\n",
    "9->\n",
    "\n",
    "10-> 3+7\n",
    "\n",
    "12->5+7\n",
    "\n",
    "14->3^2+5\n",
    "\n",
    "16->3^2+7\n",
    "\n",
    "28->5^2+3"
   ]
  },
  {
   "cell_type": "code",
   "execution_count": 54,
   "metadata": {},
   "outputs": [
    {
     "data": {
      "text/plain": [
       "False"
      ]
     },
     "execution_count": 54,
     "metadata": {},
     "output_type": "execute_result"
    }
   ],
   "source": [
    "def special_number_check(n):\n",
    "    li3=[]\n",
    "    li5=[]\n",
    "    li7=[]\n",
    "    final_power=10\n",
    "    for i in range(1,11):\n",
    "        li3.append(3**i)\n",
    "        li5.append(5**i)\n",
    "        li7.append(7**i)\n",
    "    for i in range(10):\n",
    "        for j in range(10):\n",
    "            if li3[i]+li5[j]==n or li3[i]+li7[j]==n:\n",
    "                    return True\n",
    "    for i in range(10):\n",
    "        for j in range(10):\n",
    "            if li5[i]+li7[j]==n:\n",
    "                return True\n",
    "    return False\n",
    "special_number_check(10)\n",
    "            "
   ]
  },
  {
   "cell_type": "code",
   "execution_count": 58,
   "metadata": {},
   "outputs": [
    {
     "name": "stdout",
     "output_type": "stream",
     "text": [
      "14\n"
     ]
    }
   ],
   "source": [
    "#convert a number to a special number by adding 1's\n",
    "def next_special_number(n):\n",
    "    if not special_number_check(n):\n",
    "        n+=1\n",
    "        next_special_number(n)\n",
    "    else:\n",
    "        print(n)\n",
    "next_special_number(13)"
   ]
  },
  {
   "cell_type": "code",
   "execution_count": null,
   "metadata": {},
   "outputs": [],
   "source": []
  },
  {
   "cell_type": "code",
   "execution_count": 65,
   "metadata": {},
   "outputs": [
    {
     "name": "stdout",
     "output_type": "stream",
     "text": [
      "16\n"
     ]
    }
   ],
   "source": [
    "def prevSpecialNumber(n):\n",
    "    if not special_number_check(n):\n",
    "        n-=1\n",
    "        prevSpecialNumber(n)\n",
    "    else:\n",
    "        print(n)\n",
    "prevSpecialNumber(18)"
   ]
  },
  {
   "cell_type": "code",
   "execution_count": 17,
   "metadata": {},
   "outputs": [
    {
     "data": {
      "text/plain": [
       "False"
      ]
     },
     "execution_count": 17,
     "metadata": {},
     "output_type": "execute_result"
    }
   ],
   "source": [
    "def odd_prime(n):\n",
    "    count=0\n",
    "    if n%2==1:\n",
    "        for num in range(1,n+1):\n",
    "            if n%num==0:\n",
    "                count+=1\n",
    "        if count==2:\n",
    "            return True\n",
    "        else:\n",
    "            return False\n",
    "    elif n==2:\n",
    "        print(\"Even Prime\")\n",
    "    else:\n",
    "        return False\n",
    "        \n",
    "odd_prime(4)"
   ]
  },
  {
   "cell_type": "code",
   "execution_count": null,
   "metadata": {
    "collapsed": true
   },
   "outputs": [],
   "source": []
  }
 ],
 "metadata": {
  "kernelspec": {
   "display_name": "Python 2",
   "language": "python",
   "name": "python2"
  },
  "language_info": {
   "codemirror_mode": {
    "name": "ipython",
    "version": 2
   },
   "file_extension": ".py",
   "mimetype": "text/x-python",
   "name": "python",
   "nbconvert_exporter": "python",
   "pygments_lexer": "ipython2",
   "version": "2.7.14"
  }
 },
 "nbformat": 4,
 "nbformat_minor": 2
}
