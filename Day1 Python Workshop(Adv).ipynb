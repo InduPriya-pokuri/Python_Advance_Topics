{
 "cells": [
  {
   "cell_type": "markdown",
   "metadata": {},
   "source": [
    "# Heading1"
   ]
  },
  {
   "cell_type": "markdown",
   "metadata": {},
   "source": [
    "## Heading2"
   ]
  },
  {
   "cell_type": "markdown",
   "metadata": {},
   "source": [
    "### Heading3"
   ]
  },
  {
   "cell_type": "markdown",
   "metadata": {},
   "source": [
    "###### Heading6"
   ]
  },
  {
   "cell_type": "markdown",
   "metadata": {},
   "source": [
    "*Italic text*"
   ]
  },
  {
   "cell_type": "markdown",
   "metadata": {},
   "source": [
    "**Bold text**"
   ]
  },
  {
   "cell_type": "markdown",
   "metadata": {},
   "source": [
    "***Bold and Italic***"
   ]
  },
  {
   "cell_type": "markdown",
   "metadata": {},
   "source": [
    "## Python\n",
    "- Basics and Advanced\n",
    "    - Basic concepts\n",
    "        - variables\n",
    "        - datatypes\n",
    "        - data structues\n",
    "    - data science packages\n",
    "        - numpy\n",
    "        - pandas\n",
    "        - matplotlib"
   ]
  },
  {
   "cell_type": "markdown",
   "metadata": {},
   "source": [
    "#### Files\n",
    "- File operations:\n",
    "    - open()\n",
    "    - read() / write()/ append()\n",
    "    - close()\n",
    "    "
   ]
  },
  {
   "cell_type": "markdown",
   "metadata": {},
   "source": [
    "open('filename','mode')"
   ]
  },
  {
   "cell_type": "code",
   "execution_count": 6,
   "metadata": {
    "scrolled": false
   },
   "outputs": [
    {
     "name": "stdout",
     "output_type": "stream",
     "text": [
      "h i   h e l l o   t h i s   . t x t   f i l e "
     ]
    }
   ],
   "source": [
    "file=open('data.txt','r') # opening the file with read mode\n",
    "data=file.read() # reading operation\n",
    "for ch in data:\n",
    "    print(ch,end=\" \")\n",
    "file.close()"
   ]
  },
  {
   "cell_type": "code",
   "execution_count": 7,
   "metadata": {},
   "outputs": [],
   "source": [
    "op=open('data.txt','w')\n",
    "op.write(\"my data is over writed\")\n",
    "op.close()"
   ]
  },
  {
   "cell_type": "code",
   "execution_count": null,
   "metadata": {},
   "outputs": [],
   "source": []
  },
  {
   "cell_type": "code",
   "execution_count": null,
   "metadata": {},
   "outputs": [],
   "source": []
  },
  {
   "cell_type": "code",
   "execution_count": 10,
   "metadata": {
    "collapsed": true
   },
   "outputs": [
    {
     "name": "stdout",
     "output_type": "stream",
     "text": [
      "m y   d a t a   i s   o v e r   w r i t e d "
     ]
    }
   ],
   "source": [
    "file=open('data.txt','r') # opening the file with read mode\n",
    "data=file.read() # reading operation\n",
    "for ch in data:\n",
    "    print(ch,end=\" \")"
   ]
  },
  {
   "cell_type": "code",
   "execution_count": 11,
   "metadata": {},
   "outputs": [
    {
     "name": "stdout",
     "output_type": "stream",
     "text": [
      "\n"
     ]
    }
   ],
   "source": [
    "print(file.read())"
   ]
  },
  {
   "cell_type": "code",
   "execution_count": 16,
   "metadata": {},
   "outputs": [],
   "source": [
    "dt=open('data.txt','a')\n",
    "dt.write(\"new data is added\")\n",
    "dt.close()"
   ]
  },
  {
   "cell_type": "code",
   "execution_count": null,
   "metadata": {},
   "outputs": [],
   "source": []
  },
  {
   "cell_type": "code",
   "execution_count": 20,
   "metadata": {},
   "outputs": [],
   "source": [
    "app=open('data.txt','a')\n",
    "data=app.write('Here I performed append() operation multiple times')\n",
    "app.close()"
   ]
  },
  {
   "cell_type": "code",
   "execution_count": 31,
   "metadata": {},
   "outputs": [
    {
     "name": "stdout",
     "output_type": "stream",
     "text": [
      "my data is over writed\n",
      "new data is added\n",
      "new data is added\n",
      "H\n"
     ]
    }
   ],
   "source": [
    "data=open('data.txt')\n",
    "print(data.read(60))"
   ]
  },
  {
   "cell_type": "markdown",
   "metadata": {},
   "source": [
    "###  File Processing"
   ]
  },
  {
   "cell_type": "code",
   "execution_count": 38,
   "metadata": {
    "scrolled": false
   },
   "outputs": [
    {
     "name": "stdout",
     "output_type": "stream",
     "text": [
      "char count=  179\n",
      "word count= 28\n",
      "line count= 4\n"
     ]
    }
   ],
   "source": [
    "# write a program to count the no.of characters,\n",
    "#no.of words and no.of lines in a file\n",
    "file=open('data.txt','r')\n",
    "data=file.read()\n",
    "ch_count=0\n",
    "word_count=0\n",
    "line_count=0\n",
    "for ch in data:\n",
    "    ch_count+=1\n",
    "print(\"char count= \",ch_count)\n",
    "for word in data.split():\n",
    "    word_count+=1\n",
    "print(\"word count=\",word_count)\n",
    "for line in data.split('\\n'):\n",
    "    line_count+=1\n",
    "print(\"line count=\",line_count)\n",
    "\n"
   ]
  },
  {
   "cell_type": "code",
   "execution_count": 32,
   "metadata": {},
   "outputs": [
    {
     "data": {
      "text/plain": [
       "'my data is over writed\\nnew data is added\\nnew data is added\\nHere I performed append() operationHere I performed append() operationHere I performed append() operation multiple times'"
      ]
     },
     "execution_count": 32,
     "metadata": {},
     "output_type": "execute_result"
    }
   ],
   "source": [
    "file=open('data.txt')\n",
    "file.read()"
   ]
  },
  {
   "cell_type": "code",
   "execution_count": 33,
   "metadata": {},
   "outputs": [],
   "source": [
    "for word in file:\n",
    "    print(word)"
   ]
  },
  {
   "cell_type": "markdown",
   "metadata": {},
   "source": [
    "write a program to count the no.of characters in a file excluding ' '"
   ]
  },
  {
   "cell_type": "markdown",
   "metadata": {},
   "source": [
    "### List Comprehension\n",
    "- Syntax:\n",
    "    - [o/p var, i/p var and cond check]"
   ]
  },
  {
   "cell_type": "code",
   "execution_count": 41,
   "metadata": {
    "collapsed": true
   },
   "outputs": [
    {
     "name": "stdout",
     "output_type": "stream",
     "text": [
      "[123, 'word', 8.4, 'djfjdf', 237]\n",
      "123\n",
      "word\n",
      "8.4\n",
      "djfjdf\n",
      "237\n"
     ]
    }
   ],
   "source": [
    "li=[123,'word',8.4,'djfjdf',237]\n",
    "print(li)\n",
    "for ele in li:\n",
    "    print(ele)"
   ]
  },
  {
   "cell_type": "code",
   "execution_count": 7,
   "metadata": {
    "collapsed": true
   },
   "outputs": [
    {
     "name": "stdout",
     "output_type": "stream",
     "text": [
      "12:1728\n",
      "56:175616\n",
      "90:729000\n"
     ]
    }
   ],
   "source": [
    "li2=[12,56,7,3,90,43,17] \n",
    "# write a program to print even no.s in the list\n",
    "for num in li2:\n",
    "    if num%2==0:\n",
    "        print(num,num**,sep=\":\")"
   ]
  },
  {
   "cell_type": "code",
   "execution_count": 13,
   "metadata": {},
   "outputs": [
    {
     "name": "stdout",
     "output_type": "stream",
     "text": [
      "3136 16 6084 3600 "
     ]
    }
   ],
   "source": [
    "li2=[99,56,1,4,78,93,60]\n",
    "even_sq=[num**2 for num in li2 if num%2==0] # [syn: o/p i/p condition]\n",
    "for num in even_sq:\n",
    "    print(num,end=\" \")"
   ]
  },
  {
   "cell_type": "code",
   "execution_count": 19,
   "metadata": {
    "collapsed": true
   },
   "outputs": [
    {
     "name": "stdout",
     "output_type": "stream",
     "text": [
      "Enter a string:hi i am some x\n",
      "i i a m s o m e "
     ]
    }
   ],
   "source": [
    "# write a program to print characters if their ascii values\n",
    "# are odd\n",
    "st=input(\"Enter a string:\")\n",
    "for ch in st:\n",
    "    if ord(ch)%2==1:\n",
    "        print(ch,end=\" \")"
   ]
  },
  {
   "cell_type": "code",
   "execution_count": 22,
   "metadata": {
    "collapsed": true
   },
   "outputs": [
    {
     "name": "stdout",
     "output_type": "stream",
     "text": [
      "enter string:guntur\n",
      "g u u "
     ]
    }
   ],
   "source": [
    "odd_ch=[ch for ch in input(\"enter string:\") if ord(ch)%2==1]\n",
    "#print(odd_ch)\n",
    "for ch in odd_ch:\n",
    "    print(ch,end=\" \")"
   ]
  },
  {
   "cell_type": "markdown",
   "metadata": {},
   "source": [
    "6*1=6\n",
    "\n",
    "6*2=12\n",
    "\n",
    ".\n",
    ".\n",
    ".\n",
    "\n",
    "6*10=60"
   ]
  },
  {
   "cell_type": "code",
   "execution_count": 24,
   "metadata": {},
   "outputs": [
    {
     "name": "stdout",
     "output_type": "stream",
     "text": [
      "5\n",
      "5 * 1 = 5\n",
      "5 * 2 = 10\n",
      "5 * 3 = 15\n",
      "5 * 4 = 20\n",
      "5 * 5 = 25\n",
      "5 * 6 = 30\n",
      "5 * 7 = 35\n",
      "5 * 8 = 40\n",
      "5 * 9 = 45\n",
      "5 * 10 = 50\n"
     ]
    }
   ],
   "source": [
    "# write a program to print nth multiplication table\n",
    "n=int(input())\n",
    "for num in range(1,11):\n",
    "    print(n,\"*\",num,\"=\",n*num)"
   ]
  },
  {
   "cell_type": "code",
   "execution_count": 25,
   "metadata": {
    "collapsed": true
   },
   "outputs": [
    {
     "name": "stdout",
     "output_type": "stream",
     "text": [
      "6\n",
      "6 * 1 = 6\n",
      "6 * 2 = 12\n",
      "6 * 3 = 18\n",
      "6 * 4 = 24\n",
      "6 * 5 = 30\n",
      "6 * 6 = 36\n",
      "6 * 7 = 42\n",
      "6 * 8 = 48\n",
      "6 * 9 = 54\n",
      "6 * 10 = 60\n",
      "[None, None, None, None, None, None, None, None, None, None]\n"
     ]
    }
   ],
   "source": [
    "n=int(input())\n",
    "mul=[print(n,\"*\",num,\"=\",n*num) for num in range(1,11)]\n",
    "print(mul)"
   ]
  },
  {
   "cell_type": "markdown",
   "metadata": {},
   "source": [
    "#### Dictionary Comprehension"
   ]
  },
  {
   "cell_type": "code",
   "execution_count": 26,
   "metadata": {},
   "outputs": [],
   "source": [
    "dic={'key':'value'}"
   ]
  },
  {
   "cell_type": "code",
   "execution_count": 27,
   "metadata": {
    "collapsed": true
   },
   "outputs": [
    {
     "name": "stdout",
     "output_type": "stream",
     "text": [
      "dict_keys(['k1', 'k2', 'k3'])\n",
      "dict_values([123, 'string', 8.45])\n",
      "dict_items([('k1', 123), ('k2', 'string'), ('k3', 8.45)])\n"
     ]
    }
   ],
   "source": [
    "dic={'k1':123,'k2':'string','k3':8.45}\n",
    "print(dic.keys())\n",
    "print(dic.values())\n",
    "print(dic.items())"
   ]
  },
  {
   "cell_type": "markdown",
   "metadata": {},
   "source": [
    "key:vale"
   ]
  },
  {
   "cell_type": "code",
   "execution_count": 33,
   "metadata": {
    "collapsed": true
   },
   "outputs": [
    {
     "name": "stdout",
     "output_type": "stream",
     "text": [
      "k1-123\n",
      "k2-string\n",
      "k3-8.45\n"
     ]
    }
   ],
   "source": [
    "for key,value in zip(dic.keys(),dic.values()):\n",
    "    print(key,value,sep='-')"
   ]
  },
  {
   "cell_type": "code",
   "execution_count": 35,
   "metadata": {},
   "outputs": [
    {
     "name": "stdout",
     "output_type": "stream",
     "text": [
      "nam\n"
     ]
    }
   ],
   "source": [
    "st='name'\n",
    "print(st[0:3])"
   ]
  },
  {
   "cell_type": "code",
   "execution_count": 36,
   "metadata": {},
   "outputs": [
    {
     "data": {
      "text/plain": [
       "[3, 4, 5, 6]"
      ]
     },
     "execution_count": 36,
     "metadata": {},
     "output_type": "execute_result"
    }
   ],
   "source": [
    "li=[1,2,3,4,5,6,7,8]\n",
    "li[2:6]"
   ]
  },
  {
   "cell_type": "code",
   "execution_count": 37,
   "metadata": {},
   "outputs": [
    {
     "data": {
      "text/plain": [
       "{'k1': 123, 'k2': 'string', 'k3': 8.45}"
      ]
     },
     "execution_count": 37,
     "metadata": {},
     "output_type": "execute_result"
    }
   ],
   "source": [
    "dic"
   ]
  },
  {
   "cell_type": "code",
   "execution_count": 38,
   "metadata": {},
   "outputs": [
    {
     "data": {
      "text/plain": [
       "'string'"
      ]
     },
     "execution_count": 38,
     "metadata": {},
     "output_type": "execute_result"
    }
   ],
   "source": [
    "dic['k2'] # key based value"
   ]
  },
  {
   "cell_type": "code",
   "execution_count": 39,
   "metadata": {},
   "outputs": [
    {
     "data": {
      "text/plain": [
       "8.45"
      ]
     },
     "execution_count": 39,
     "metadata": {},
     "output_type": "execute_result"
    }
   ],
   "source": [
    "dic['k3']"
   ]
  },
  {
   "cell_type": "code",
   "execution_count": 40,
   "metadata": {},
   "outputs": [],
   "source": [
    "dic['k4']='hi hello'"
   ]
  },
  {
   "cell_type": "code",
   "execution_count": 41,
   "metadata": {},
   "outputs": [
    {
     "data": {
      "text/plain": [
       "{'k1': 123, 'k2': 'string', 'k3': 8.45, 'k4': 'hi hello'}"
      ]
     },
     "execution_count": 41,
     "metadata": {},
     "output_type": "execute_result"
    }
   ],
   "source": [
    "dic"
   ]
  },
  {
   "cell_type": "code",
   "execution_count": 44,
   "metadata": {},
   "outputs": [
    {
     "name": "stdout",
     "output_type": "stream",
     "text": [
      "k1\n",
      "k2\n",
      "k3\n",
      "k4\n"
     ]
    }
   ],
   "source": [
    "for key in dic.keys():\n",
    "    print(key)"
   ]
  },
  {
   "cell_type": "code",
   "execution_count": 45,
   "metadata": {
    "collapsed": true
   },
   "outputs": [
    {
     "name": "stdout",
     "output_type": "stream",
     "text": [
      "123\n",
      "string\n",
      "8.45\n",
      "hi hello\n"
     ]
    }
   ],
   "source": [
    "for value in dic.values():\n",
    "    print(value)"
   ]
  },
  {
   "cell_type": "code",
   "execution_count": 46,
   "metadata": {
    "collapsed": true
   },
   "outputs": [
    {
     "name": "stdout",
     "output_type": "stream",
     "text": [
      "('k1', 123)\n",
      "('k2', 'string')\n",
      "('k3', 8.45)\n",
      "('k4', 'hi hello')\n"
     ]
    }
   ],
   "source": [
    "for item in dic.items():\n",
    "    print(item)"
   ]
  },
  {
   "cell_type": "code",
   "execution_count": 48,
   "metadata": {
    "collapsed": true
   },
   "outputs": [
    {
     "name": "stdout",
     "output_type": "stream",
     "text": [
      "k1-123\n",
      "k2-string\n",
      "k3-8.45\n",
      "k4-hi hello\n"
     ]
    }
   ],
   "source": [
    "for k,v in dic.items():\n",
    "    print(k,v,sep=\"-\")"
   ]
  },
  {
   "cell_type": "code",
   "execution_count": 50,
   "metadata": {},
   "outputs": [
    {
     "name": "stdout",
     "output_type": "stream",
     "text": [
      "k1:123\n",
      "k2:string\n",
      "k3:8.45\n",
      "k4:hi hello\n"
     ]
    }
   ],
   "source": [
    "for k,v in zip(dic.keys(),dic.values()):\n",
    "    print(k,v,sep=\":\")"
   ]
  },
  {
   "cell_type": "code",
   "execution_count": null,
   "metadata": {},
   "outputs": [],
   "source": []
  }
 ],
 "metadata": {
  "kernelspec": {
   "display_name": "Python 3",
   "language": "python",
   "name": "python3"
  },
  "language_info": {
   "codemirror_mode": {
    "name": "ipython",
    "version": 3
   },
   "file_extension": ".py",
   "mimetype": "text/x-python",
   "name": "python",
   "nbconvert_exporter": "python",
   "pygments_lexer": "ipython3",
   "version": "3.7.4"
  }
 },
 "nbformat": 4,
 "nbformat_minor": 2
}
