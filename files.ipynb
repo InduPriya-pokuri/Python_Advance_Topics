{
 "cells": [
  {
   "cell_type": "markdown",
   "metadata": {},
   "source": [
    "### Files\n",
    "- python suuports file handling also\n",
    "- this process of handling is easy and short like other concepts\n",
    "- each line of file ends with a special character such as , or new line\n",
    "\n",
    "#### Working with files\n",
    "- file operations:\n",
    "    - open()\n",
    "        - opens the file\n",
    "    - read()\n",
    "        - reads the content in a text file\n",
    "    - write()\n",
    "        - writes the data into the file\n",
    "        - data will be overwrited\n",
    "    - append()\n",
    "        - add new data to the existing file\n",
    "    - close()\n",
    "        - closes the file\n",
    "    - tell()\n",
    "        - it tells the position of cursor\n",
    "    - seek(6)\n",
    "        - it moves the cursor to 6th position\n",
    "        "
   ]
  },
  {
   "cell_type": "code",
   "execution_count": 4,
   "metadata": {},
   "outputs": [
    {
     "name": "stdout",
     "output_type": "stream",
     "text": [
      "hi , hello !\n",
      "\n",
      "I am new to the programming and I am learning python now.\n",
      "\n",
      "at present , working with files using python.\n",
      "\n",
      "Thanks for reading my text.I am adding new data to the file using append mode\n"
     ]
    }
   ],
   "source": [
    "#opening of a file\n",
    "data=open('data.txt','r')\n",
    "for word in data:\n",
    "    print(word)\n"
   ]
  },
  {
   "cell_type": "code",
   "execution_count": 5,
   "metadata": {},
   "outputs": [
    {
     "data": {
      "text/plain": [
       "''"
      ]
     },
     "execution_count": 5,
     "metadata": {},
     "output_type": "execute_result"
    }
   ],
   "source": [
    "words=data.read(10)\n",
    "words"
   ]
  },
  {
   "cell_type": "code",
   "execution_count": 6,
   "metadata": {},
   "outputs": [
    {
     "data": {
      "text/plain": [
       "'hi , hello !\\nI am new to the programming and I am learning python now.\\nat present , working with files using python.\\nThanks for reading my text.I am adding new data to the file using append mode'"
      ]
     },
     "execution_count": 6,
     "metadata": {},
     "output_type": "execute_result"
    }
   ],
   "source": [
    "file = open(\"data.txt\", \"r\")  \n",
    "file.read()"
   ]
  },
  {
   "cell_type": "code",
   "execution_count": 28,
   "metadata": {},
   "outputs": [
    {
     "data": {
      "text/plain": [
       "''"
      ]
     },
     "execution_count": 28,
     "metadata": {},
     "output_type": "execute_result"
    }
   ],
   "source": [
    "file.read()"
   ]
  },
  {
   "cell_type": "code",
   "execution_count": 7,
   "metadata": {},
   "outputs": [
    {
     "data": {
      "text/plain": [
       "'hi , hello !\\nI am ne'"
      ]
     },
     "execution_count": 7,
     "metadata": {},
     "output_type": "execute_result"
    }
   ],
   "source": [
    "file = open(\"data.txt\", \"r\")  \n",
    "file.read(20)  # reads first 20 characters in file"
   ]
  },
  {
   "cell_type": "code",
   "execution_count": 32,
   "metadata": {},
   "outputs": [],
   "source": [
    "new=open('new.txt','w')\n",
    "new.write('I created a file ')\n",
    "new.write('And added some text')\n",
    "new.close()"
   ]
  },
  {
   "cell_type": "code",
   "execution_count": 8,
   "metadata": {},
   "outputs": [
    {
     "data": {
      "text/plain": [
       "'I created a file And added some text'"
      ]
     },
     "execution_count": 8,
     "metadata": {},
     "output_type": "execute_result"
    }
   ],
   "source": [
    "file=open('new.txt','r')\n",
    "file.read()"
   ]
  },
  {
   "cell_type": "code",
   "execution_count": 9,
   "metadata": {},
   "outputs": [],
   "source": [
    "w=open('write.txt','w')\n",
    "w.write('I created a file using write which creates the file automatically\\n and adding multiples lines of \\\n",
    "data at a time\\nusing single write operation')\n",
    "w.close()"
   ]
  },
  {
   "cell_type": "code",
   "execution_count": 10,
   "metadata": {},
   "outputs": [
    {
     "data": {
      "text/plain": [
       "'I created a file using write which creates the file automatically\\n and adding multiples lines of data at a time\\nusing single write operation'"
      ]
     },
     "execution_count": 10,
     "metadata": {},
     "output_type": "execute_result"
    }
   ],
   "source": [
    "o=open('write.txt','r')\n",
    "o.read()"
   ]
  },
  {
   "cell_type": "code",
   "execution_count": 11,
   "metadata": {},
   "outputs": [],
   "source": [
    "ap=open('data.txt','a')\n",
    "ap.write('I am adding new data to the file using append mode')\n",
    "ap.close()"
   ]
  },
  {
   "cell_type": "code",
   "execution_count": 12,
   "metadata": {},
   "outputs": [
    {
     "name": "stdout",
     "output_type": "stream",
     "text": [
      "hi , hello !\n",
      "\n",
      "I am new to the programming and I am learning python now.\n",
      "\n",
      "at present , working with files using python.\n",
      "\n",
      "Thanks for reading my text.I am adding new data to the file using append modeI am adding new data to the file using append mode\n"
     ]
    }
   ],
   "source": [
    "a=open('data.txt','r')\n",
    "for each in a:\n",
    "    print(each)"
   ]
  },
  {
   "cell_type": "code",
   "execution_count": 43,
   "metadata": {},
   "outputs": [],
   "source": [
    "with open('write2.txt','w') as f:\n",
    "    r=f.write('Welcome to the new file')"
   ]
  },
  {
   "cell_type": "code",
   "execution_count": 14,
   "metadata": {},
   "outputs": [
    {
     "name": "stdout",
     "output_type": "stream",
     "text": [
      "['hi', ',', 'hello', '!']\n",
      "['I', 'am', 'new', 'to', 'the', 'programming', 'and', 'I', 'am', 'learning', 'python', 'now.']\n",
      "['at', 'present', ',', 'working', 'with', 'files', 'using', 'python.']\n",
      "['Thanks', 'for', 'reading', 'my', 'text.I', 'am', 'adding', 'new', 'data', 'to', 'the', 'file', 'using', 'append', 'modeI', 'am', 'adding', 'new', 'data', 'to', 'the', 'file', 'using', 'append', 'mode']\n"
     ]
    }
   ],
   "source": [
    "with open(\"data.txt\", \"r\") as file: \n",
    "    data = file.readlines()  # converts the entire file into list of words\n",
    "    for line in data: \n",
    "        word = line.split() \n",
    "        print(word)"
   ]
  },
  {
   "cell_type": "code",
   "execution_count": 15,
   "metadata": {},
   "outputs": [
    {
     "name": "stdout",
     "output_type": "stream",
     "text": [
      "hi , hello ! I am new to the programming and I am learning python now. at present , working with files using python. Thanks for reading my text.I am adding new data to the file using append modeI am adding new data to the file using append mode "
     ]
    }
   ],
   "source": [
    "with open(\"data.txt\", \"r\") as file2:\n",
    "    data=file2.read()\n",
    "    for word in data.split():\n",
    "        print(word,end=\" \")"
   ]
  },
  {
   "cell_type": "code",
   "execution_count": 16,
   "metadata": {},
   "outputs": [
    {
     "data": {
      "text/plain": [
       "'hi , hello !\\nI am new to the programming and I am learning python now.\\nat present , working with files using python.\\nThanks for reading my text.I am adding new data to the file using append modeI am adding new data to the file using append mode'"
      ]
     },
     "execution_count": 16,
     "metadata": {},
     "output_type": "execute_result"
    }
   ],
   "source": [
    "# count the no.of lines,words and characters in the above file\n",
    "\n",
    "data"
   ]
  },
  {
   "cell_type": "code",
   "execution_count": 17,
   "metadata": {},
   "outputs": [
    {
     "name": "stdout",
     "output_type": "stream",
     "text": [
      "char count=  244\n",
      "word count= 49\n",
      "line count= 4\n"
     ]
    }
   ],
   "source": [
    "# write a program to count the no.of characters,\n",
    "#no.of words and no.of lines in a file\n",
    "file=open('data.txt','r')\n",
    "data=file.read()\n",
    "ch_count=word_count=line_count=0\n",
    "for ch in data:\n",
    "    ch_count+=1\n",
    "print(\"char count= \",ch_count)\n",
    "for word in data.split():\n",
    "    word_count+=1\n",
    "print(\"word count=\",word_count)\n",
    "for line in data.split('\\n'):\n",
    "    line_count+=1\n",
    "print(\"line count=\",line_count)\n",
    "\n"
   ]
  },
  {
   "cell_type": "code",
   "execution_count": 18,
   "metadata": {},
   "outputs": [
    {
     "data": {
      "text/plain": [
       "'hi , hello !\\nI am new to the programming and I am learning python now.\\nat present , working with files using python.\\nThanks for reading my text.I am adding new data to the file using append modeI am adding new data to the file using append mode'"
      ]
     },
     "execution_count": 18,
     "metadata": {},
     "output_type": "execute_result"
    }
   ],
   "source": [
    "data"
   ]
  },
  {
   "cell_type": "code",
   "execution_count": 19,
   "metadata": {},
   "outputs": [
    {
     "name": "stdout",
     "output_type": "stream",
     "text": [
      "no.of lines= 4\n",
      "No.of words= 46\n",
      "No.of characters= 190\n"
     ]
    }
   ],
   "source": [
    "ch_count=word_count=line_count=0\n",
    "for line in data.split('\\n'):\n",
    "    line_count+=1\n",
    "    for word in line:\n",
    "        if word==' ':\n",
    "            word_count+=1\n",
    "        for ch in word:\n",
    "            if ch.isalpha():\n",
    "                ch_count+=1\n",
    "print(\"no.of lines=\",line_count)\n",
    "print('No.of words=',word_count+1)\n",
    "print('No.of characters=',ch_count)"
   ]
  },
  {
   "cell_type": "code",
   "execution_count": 20,
   "metadata": {},
   "outputs": [
    {
     "data": {
      "text/plain": [
       "'hi , hello !\\nI am new to the programming and I am learning python now.\\nat present , working with files using python.\\nThanks for reading my text.I am adding new data to the file using append modeI am adding new data to the file using append mode'"
      ]
     },
     "execution_count": 20,
     "metadata": {},
     "output_type": "execute_result"
    }
   ],
   "source": [
    "data"
   ]
  },
  {
   "cell_type": "code",
   "execution_count": 27,
   "metadata": {},
   "outputs": [
    {
     "name": "stdout",
     "output_type": "stream",
     "text": [
      "hi , hello !\n",
      "I am new to the programming and I am learning python now.\n",
      "at present , working with files using python.\n",
      "Thanks for reading my text.I am adding new data to the file using append modeI am adding new data to the file using append mode"
     ]
    }
   ],
   "source": [
    "for word in data:\n",
    "    print(word,end=\"\")"
   ]
  },
  {
   "cell_type": "code",
   "execution_count": 30,
   "metadata": {},
   "outputs": [
    {
     "data": {
      "text/plain": [
       "'hi , hello !\\nI am new to the programming and I am learning python now.\\nat present , working with files using python.\\nThanks for reading my text.I am adding new data to the file using append modeI am adding new data to the file using append mode'"
      ]
     },
     "execution_count": 30,
     "metadata": {},
     "output_type": "execute_result"
    }
   ],
   "source": [
    "new_data=open('data.txt','r')\n",
    "new_data.read(-20)"
   ]
  },
  {
   "cell_type": "code",
   "execution_count": 33,
   "metadata": {},
   "outputs": [
    {
     "data": {
      "text/plain": [
       "['hi , hello !\\n',\n",
       " 'I am new to the programming and I am learning python now.\\n',\n",
       " 'at present , working with files using python.\\n',\n",
       " 'Thanks for reading my text.I am adding new data to the file using append modeI am adding new data to the file using append mode']"
      ]
     },
     "execution_count": 33,
     "metadata": {},
     "output_type": "execute_result"
    }
   ],
   "source": [
    "def read_line(fname):\n",
    "    li=[]\n",
    "    with open(fname) as file:\n",
    "        for line in file:\n",
    "            li.append(line)\n",
    "    return li\n",
    "\n",
    "read_line('data.txt')"
   ]
  },
  {
   "cell_type": "code",
   "execution_count": 34,
   "metadata": {},
   "outputs": [
    {
     "data": {
      "text/plain": [
       "'hi , hello !\\nI am new to the programming and I am learning python now.\\nat present , working with files using python.\\nThanks for reading my text.I am adding new data to the file using append modeI am adding new data to the file using append mode'"
      ]
     },
     "execution_count": 34,
     "metadata": {},
     "output_type": "execute_result"
    }
   ],
   "source": [
    "# find the longest length word in file"
   ]
  },
  {
   "cell_type": "code",
   "execution_count": 38,
   "metadata": {},
   "outputs": [
    {
     "data": {
      "text/plain": [
       "90"
      ]
     },
     "execution_count": 38,
     "metadata": {},
     "output_type": "execute_result"
    }
   ],
   "source": [
    "li=[5,6,1,9,8,34,90,53]\n",
    "max_num=li[0]\n",
    "for num in li:\n",
    "    if max_num<num:\n",
    "        max_num=num\n",
    "m"
   ]
  },
  {
   "cell_type": "code",
   "execution_count": 39,
   "metadata": {},
   "outputs": [
    {
     "data": {
      "text/plain": [
       "1"
      ]
     },
     "execution_count": 39,
     "metadata": {},
     "output_type": "execute_result"
    }
   ],
   "source": [
    "min_num=li[0]\n",
    "for num in li:\n",
    "    if min_num>num:\n",
    "        min_num=num\n",
    "min_num"
   ]
  },
  {
   "cell_type": "code",
   "execution_count": 41,
   "metadata": {},
   "outputs": [
    {
     "data": {
      "text/plain": [
       "1"
      ]
     },
     "execution_count": 41,
     "metadata": {},
     "output_type": "execute_result"
    }
   ],
   "source": [
    "def frequency_count(st,ch):\n",
    "    return st.count(ch)\n",
    "\n",
    "frequency_count('ruthu','h')"
   ]
  },
  {
   "cell_type": "code",
   "execution_count": 42,
   "metadata": {},
   "outputs": [
    {
     "data": {
      "text/plain": [
       "3"
      ]
     },
     "execution_count": 42,
     "metadata": {},
     "output_type": "execute_result"
    }
   ],
   "source": [
    "def frequency_count2(fname,word):\n",
    "    with open(fname) as file:\n",
    "        data=file.read()\n",
    "    return data.count(word)\n",
    "frequency_count2('data.txt','new')"
   ]
  },
  {
   "cell_type": "code",
   "execution_count": 44,
   "metadata": {},
   "outputs": [
    {
     "data": {
      "text/plain": [
       "'hi , hello !\\nI am new to the programming and I am learning python now.\\nat present , working with files using python.\\nThanks for reading my text.I am adding new data to the file using append modeI am adding new data to the file using append mode'"
      ]
     },
     "execution_count": 44,
     "metadata": {},
     "output_type": "execute_result"
    }
   ],
   "source": [
    "with open('data.txt') as file:\n",
    "        data=file.read()\n",
    "data"
   ]
  },
  {
   "cell_type": "code",
   "execution_count": 54,
   "metadata": {},
   "outputs": [
    {
     "data": {
      "text/plain": [
       "2"
      ]
     },
     "execution_count": 54,
     "metadata": {},
     "output_type": "execute_result"
    }
   ],
   "source": [
    "def frequency_count2(fname,word):\n",
    "    freq=0\n",
    "    with open(fname) as file:\n",
    "        data=file.read()\n",
    "    for each in data.split():\n",
    "        if each==word:\n",
    "            freq+=1\n",
    "    return freq\n",
    "\n",
    "frequency_count2('data.txt','data')"
   ]
  },
  {
   "cell_type": "code",
   "execution_count": 47,
   "metadata": {},
   "outputs": [
    {
     "data": {
      "text/plain": [
       "2"
      ]
     },
     "execution_count": 47,
     "metadata": {},
     "output_type": "execute_result"
    }
   ],
   "source": [
    "st='ruthu'\n",
    "c=0\n",
    "for ch in st:\n",
    "    if ch=='u':\n",
    "        c+=1\n",
    "c"
   ]
  },
  {
   "cell_type": "code",
   "execution_count": 57,
   "metadata": {},
   "outputs": [
    {
     "name": "stdout",
     "output_type": "stream",
     "text": [
      "23\n"
     ]
    }
   ],
   "source": [
    "with open('write2.txt','r') as f:\n",
    "    f.read()\n",
    "    print(f.tell())"
   ]
  },
  {
   "cell_type": "code",
   "execution_count": 71,
   "metadata": {},
   "outputs": [
    {
     "name": "stdout",
     "output_type": "stream",
     "text": [
      "lcome to the\n"
     ]
    }
   ],
   "source": [
    "with open('write2.txt','r') as f2:\n",
    "    f2.read()\n",
    "    f2.seek(2) # moves the cursor to the 3rd position\n",
    "    print(f2.read(12)) # it reads from there to 12"
   ]
  },
  {
   "cell_type": "code",
   "execution_count": null,
   "metadata": {},
   "outputs": [],
   "source": []
  }
 ],
 "metadata": {
  "kernelspec": {
   "display_name": "Python 3",
   "language": "python",
   "name": "python3"
  },
  "language_info": {
   "codemirror_mode": {
    "name": "ipython",
    "version": 3
   },
   "file_extension": ".py",
   "mimetype": "text/x-python",
   "name": "python",
   "nbconvert_exporter": "python",
   "pygments_lexer": "ipython3",
   "version": "3.7.4"
  }
 },
 "nbformat": 4,
 "nbformat_minor": 2
}
