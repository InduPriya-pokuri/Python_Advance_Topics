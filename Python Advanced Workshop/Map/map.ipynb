{
 "cells": [
  {
   "cell_type": "markdown",
   "metadata": {},
   "source": [
    "### Map()\n",
    "- Returns a list of results after applying function to each item of given iterable(list,tuple..)\n",
    "- Syntax:\n",
    "    - map(fun,iterable)"
   ]
  },
  {
   "cell_type": "code",
   "execution_count": 1,
   "metadata": {},
   "outputs": [
    {
     "name": "stdout",
     "output_type": "stream",
     "text": [
      "ruthu ashok\n",
      "['ruthu', 'ashok']\n"
     ]
    }
   ],
   "source": [
    "st=input().split()\n",
    "print(st)"
   ]
  },
  {
   "cell_type": "code",
   "execution_count": 1,
   "metadata": {},
   "outputs": [
    {
     "name": "stdout",
     "output_type": "stream",
     "text": [
      "678 98757985 567467834\n",
      "[678.0, 98757985.0, 567467834.0]\n"
     ]
    }
   ],
   "source": [
    "n=list(map(float,input().split(\" \")))\n",
    "print(n)"
   ]
  },
  {
   "cell_type": "code",
   "execution_count": 4,
   "metadata": {},
   "outputs": [
    {
     "name": "stdout",
     "output_type": "stream",
     "text": [
      "65 3 7 89\n",
      "A\n",
      "6\n",
      "5040\n",
      "16507955160908461081216919262453619309839666236496541854913520707833171034378509739399912570787600662729080382999756800000000000000000000\n"
     ]
    }
   ],
   "source": [
    "st=list(map(int,input().split()))\n",
    "def is_prime(n):\n",
    "    count=0\n",
    "    for num in range(1,n+1):\n",
    "        if n%num==0:\n",
    "            count+=1\n",
    "    if count==2:\n",
    "        return True\n",
    "    else:\n",
    "        return False\n",
    "    \n",
    "def factorial(n):\n",
    "    fact=1\n",
    "    if n==1 or n==0:\n",
    "        return 0\n",
    "    else:\n",
    "        for v in range(1,n+1):\n",
    "            fact*=v\n",
    "        return fact\n",
    "for num in st:\n",
    "    if is_prime(num):\n",
    "        print(factorial(num))\n",
    "    else:\n",
    "        print(chr(num))"
   ]
  },
  {
   "cell_type": "code",
   "execution_count": 1,
   "metadata": {},
   "outputs": [
    {
     "name": "stdout",
     "output_type": "stream",
     "text": [
      "True\n"
     ]
    }
   ],
   "source": [
    "def is_prime(n):\n",
    "    count=0\n",
    "    for num in range(1,n+1):\n",
    "        if n%num==0:\n",
    "            count+=1\n",
    "    if count==2:\n",
    "        return True\n",
    "    else:\n",
    "        return False\n",
    "    \n",
    "print(is_prime(7))"
   ]
  },
  {
   "cell_type": "code",
   "execution_count": 1,
   "metadata": {},
   "outputs": [
    {
     "name": "stdout",
     "output_type": "stream",
     "text": [
      "120\n"
     ]
    }
   ],
   "source": [
    "def factorial(n):\n",
    "    fact=1\n",
    "    if n==1or n==0:\n",
    "        return 0\n",
    "    else:\n",
    "        for i in range(1,n+1):\n",
    "            fact*=i\n",
    "        return fact\n",
    "print(factorial(5))"
   ]
  },
  {
   "cell_type": "code",
   "execution_count": 3,
   "metadata": {},
   "outputs": [
    {
     "name": "stdout",
     "output_type": "stream",
     "text": [
      "['A', 'N', ']']\n"
     ]
    }
   ],
   "source": [
    "def find_char(n):\n",
    "    return chr(n)\n",
    "n=(65,78,93)\n",
    "print(list(map(find_char,n)))"
   ]
  },
  {
   "cell_type": "code",
   "execution_count": 3,
   "metadata": {},
   "outputs": [
    {
     "name": "stdout",
     "output_type": "stream",
     "text": [
      "=\n"
     ]
    }
   ],
   "source": [
    "print(chr(61))"
   ]
  },
  {
   "cell_type": "code",
   "execution_count": 2,
   "metadata": {},
   "outputs": [
    {
     "name": "stdout",
     "output_type": "stream",
     "text": [
      "[('s', 'a', 't'), ('s', 'u', 'n'), ('m', 'o', 'n')]\n"
     ]
    }
   ],
   "source": [
    "li=['sat','sun','mon']\n",
    "res=list(map(tuple,li))\n",
    "print(res)"
   ]
  },
  {
   "cell_type": "code",
   "execution_count": 9,
   "metadata": {},
   "outputs": [
    {
     "name": "stdout",
     "output_type": "stream",
     "text": [
      "[109, 97, 116, 53]\n"
     ]
    }
   ],
   "source": [
    "def ascii_value(ch):\n",
    "    return ord(ch)\n",
    "\n",
    "li=['m','a','t','5']\n",
    "print(list(map(ascii_value,li)))\n",
    "\n",
    "\n"
   ]
  },
  {
   "cell_type": "code",
   "execution_count": 7,
   "metadata": {},
   "outputs": [
    {
     "data": {
      "text/plain": [
       "109"
      ]
     },
     "execution_count": 7,
     "metadata": {},
     "output_type": "execute_result"
    }
   ],
   "source": [
    "ord('m')"
   ]
  },
  {
   "cell_type": "code",
   "execution_count": 3,
   "metadata": {},
   "outputs": [
    {
     "name": "stdout",
     "output_type": "stream",
     "text": [
      "6\n"
     ]
    },
    {
     "data": {
      "text/plain": [
       "720"
      ]
     },
     "execution_count": 3,
     "metadata": {},
     "output_type": "execute_result"
    }
   ],
   "source": [
    "def factorial(num):\n",
    "    if num==0 or num==1:\n",
    "        return 1\n",
    "    else:\n",
    "        return num*factorial(num-1)\n",
    "n=int(input())\n",
    "factorial(n)"
   ]
  },
  {
   "cell_type": "markdown",
   "metadata": {},
   "source": [
    "###  Filters()\n",
    "- Used to retrive one type of data from a group of data types\n",
    "- Syntax:\n",
    "    - filter(fun,iterbale)"
   ]
  },
  {
   "cell_type": "code",
   "execution_count": 5,
   "metadata": {},
   "outputs": [
    {
     "name": "stdout",
     "output_type": "stream",
     "text": [
      "['r', 'u', 't']\n"
     ]
    }
   ],
   "source": [
    "=[1,6,'r','u','t',76]\n",
    "def is_char(ch):\n",
    "    s=str(ch)\n",
    "    if s.isalpha():\n",
    "        return True\n",
    "    else:li\n",
    "        return False\n",
    "    \n",
    "char=list(filter(is_char,li))\n",
    "print(char)"
   ]
  },
  {
   "cell_type": "code",
   "execution_count": 8,
   "metadata": {},
   "outputs": [
    {
     "name": "stdout",
     "output_type": "stream",
     "text": [
      "[1, 6, 76]\n"
     ]
    }
   ],
   "source": [
    "li=[1,6,'r','u','t',76]\n",
    "def is_digit(ch):\n",
    "    s=str(ch)\n",
    "    if s.isdigit():\n",
    "        return True\n",
    "    else:\n",
    "        return False\n",
    "    \n",
    "nums=list(filter(is_digit,li))\n",
    "print(nums)"
   ]
  },
  {
   "cell_type": "code",
   "execution_count": 5,
   "metadata": {},
   "outputs": [
    {
     "name": "stdout",
     "output_type": "stream",
     "text": [
      "2 3 5 7 11 13 17 19 23 29 31 37 41 43 47 "
     ]
    }
   ],
   "source": [
    "li=[num for num in range(1,50)]\n",
    "for num in li:\n",
    "    count=0\n",
    "    for dig in range(1,num//2+1):\n",
    "        if num%dig==0:\n",
    "            count+=1\n",
    "    if count==1:\n",
    "        print(num,end=\" \")"
   ]
  },
  {
   "cell_type": "code",
   "execution_count": null,
   "metadata": {},
   "outputs": [],
   "source": []
  }
 ],
 "metadata": {
  "kernelspec": {
   "display_name": "Python 3",
   "language": "python",
   "name": "python3"
  },
  "language_info": {
   "codemirror_mode": {
    "name": "ipython",
    "version": 3
   },
   "file_extension": ".py",
   "mimetype": "text/x-python",
   "name": "python",
   "nbconvert_exporter": "python",
   "pygments_lexer": "ipython3",
   "version": "3.7.3"
  }
 },
 "nbformat": 4,
 "nbformat_minor": 2
}
