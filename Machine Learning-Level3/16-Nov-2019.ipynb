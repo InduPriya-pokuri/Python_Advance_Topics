{
 "cells": [
  {
   "cell_type": "markdown",
   "metadata": {},
   "source": [
    "## Machine Learning Session"
   ]
  },
  {
   "cell_type": "code",
   "execution_count": 6,
   "metadata": {},
   "outputs": [],
   "source": [
    "import numpy as np\n",
    "import matplotlib.pyplot as plt\n"
   ]
  },
  {
   "cell_type": "code",
   "execution_count": 7,
   "metadata": {},
   "outputs": [
    {
     "data": {
      "text/plain": [
       "array([[0.13616707],\n",
       "       [0.07678686],\n",
       "       [0.96568953],\n",
       "       [0.64271067],\n",
       "       [0.14177127],\n",
       "       [0.89959189],\n",
       "       [0.64840202],\n",
       "       [0.3843995 ],\n",
       "       [0.27164058],\n",
       "       [0.36463246],\n",
       "       [0.70786757],\n",
       "       [0.61185175],\n",
       "       [0.50038309],\n",
       "       [0.81966852],\n",
       "       [0.9789742 ],\n",
       "       [0.10904086],\n",
       "       [0.95800371],\n",
       "       [0.74071567],\n",
       "       [0.92586252],\n",
       "       [0.48775527],\n",
       "       [0.82839505],\n",
       "       [0.83631888],\n",
       "       [0.8432282 ],\n",
       "       [0.21665134],\n",
       "       [0.99358158],\n",
       "       [0.79411526],\n",
       "       [0.13662674],\n",
       "       [0.34440626],\n",
       "       [0.93263512],\n",
       "       [0.14556544],\n",
       "       [0.18334981],\n",
       "       [0.53554602],\n",
       "       [0.58045515],\n",
       "       [0.71846423],\n",
       "       [0.03238422],\n",
       "       [0.37573617],\n",
       "       [0.29038229],\n",
       "       [0.32952248],\n",
       "       [0.63821859],\n",
       "       [0.91694796],\n",
       "       [0.39929042],\n",
       "       [0.15555834],\n",
       "       [0.58102589],\n",
       "       [0.13149847],\n",
       "       [0.37311505],\n",
       "       [0.08287791],\n",
       "       [0.62240819],\n",
       "       [0.43993549],\n",
       "       [0.38430248],\n",
       "       [0.44433356],\n",
       "       [0.14370581],\n",
       "       [0.64851814],\n",
       "       [0.58773662],\n",
       "       [0.75018293],\n",
       "       [0.7516119 ],\n",
       "       [0.79025413],\n",
       "       [0.04210751],\n",
       "       [0.88717002],\n",
       "       [0.13309692],\n",
       "       [0.84203757],\n",
       "       [0.36703236],\n",
       "       [0.46918937],\n",
       "       [0.31243981],\n",
       "       [0.7219421 ],\n",
       "       [0.97201458],\n",
       "       [0.11411146],\n",
       "       [0.66799585],\n",
       "       [0.15595853],\n",
       "       [0.14587146],\n",
       "       [0.38402928],\n",
       "       [0.61407353],\n",
       "       [0.27217522],\n",
       "       [0.05684178],\n",
       "       [0.60958076],\n",
       "       [0.08064249],\n",
       "       [0.72629808],\n",
       "       [0.36486405],\n",
       "       [0.94953731],\n",
       "       [0.15116202],\n",
       "       [0.87132035],\n",
       "       [0.20842698],\n",
       "       [0.26401452],\n",
       "       [0.27819303],\n",
       "       [0.50348212],\n",
       "       [0.06130931],\n",
       "       [0.80598576],\n",
       "       [0.22935711],\n",
       "       [0.468941  ],\n",
       "       [0.01564471],\n",
       "       [0.57788561],\n",
       "       [0.46553553],\n",
       "       [0.32621075],\n",
       "       [0.86475158],\n",
       "       [0.3251536 ],\n",
       "       [0.48749453],\n",
       "       [0.57112268],\n",
       "       [0.55190183],\n",
       "       [0.622653  ],\n",
       "       [0.09612822],\n",
       "       [0.09634897]])"
      ]
     },
     "execution_count": 7,
     "metadata": {},
     "output_type": "execute_result"
    }
   ],
   "source": [
    "\n",
    "x=np.random.rand(100,1)\n",
    "x"
   ]
  },
  {
   "cell_type": "code",
   "execution_count": 8,
   "metadata": {},
   "outputs": [
    {
     "data": {
      "text/plain": [
       "array([[4.73379572],\n",
       "       [4.77689211],\n",
       "       [7.63016531],\n",
       "       [6.09286008],\n",
       "       [5.42529284],\n",
       "       [8.97780503],\n",
       "       [6.97106327],\n",
       "       [5.47664645],\n",
       "       [4.82301737],\n",
       "       [7.92470632],\n",
       "       [5.06738186],\n",
       "       [4.60180396],\n",
       "       [5.1130304 ],\n",
       "       [5.89638567],\n",
       "       [6.42742795],\n",
       "       [5.41951412],\n",
       "       [7.67268269],\n",
       "       [8.29596048],\n",
       "       [7.12776022],\n",
       "       [5.19312612],\n",
       "       [7.10940109],\n",
       "       [7.86540703],\n",
       "       [7.1616338 ],\n",
       "       [4.15066929],\n",
       "       [5.59906993],\n",
       "       [7.48621729],\n",
       "       [5.00645119],\n",
       "       [6.36678876],\n",
       "       [7.07322905],\n",
       "       [4.28001486],\n",
       "       [3.65877235],\n",
       "       [6.24096466],\n",
       "       [8.14527335],\n",
       "       [4.68134987],\n",
       "       [4.04338577],\n",
       "       [5.78229028],\n",
       "       [4.77896874],\n",
       "       [4.80308139],\n",
       "       [5.37337425],\n",
       "       [4.76721311],\n",
       "       [5.69976136],\n",
       "       [5.05854819],\n",
       "       [6.67831671],\n",
       "       [4.06875673],\n",
       "       [5.82374595],\n",
       "       [3.58927449],\n",
       "       [5.48209641],\n",
       "       [5.32650008],\n",
       "       [6.42834415],\n",
       "       [5.88834104],\n",
       "       [3.67568739],\n",
       "       [5.21981726],\n",
       "       [6.31648647],\n",
       "       [7.59520686],\n",
       "       [6.67314243],\n",
       "       [5.56340178],\n",
       "       [3.51990985],\n",
       "       [7.85601809],\n",
       "       [4.93083606],\n",
       "       [6.18666882],\n",
       "       [4.60285828],\n",
       "       [4.55385489],\n",
       "       [4.08425266],\n",
       "       [5.29947016],\n",
       "       [6.83940898],\n",
       "       [2.47344188],\n",
       "       [6.47999035],\n",
       "       [5.7078348 ],\n",
       "       [4.10242202],\n",
       "       [5.71206433],\n",
       "       [4.78374208],\n",
       "       [4.10756375],\n",
       "       [5.4633852 ],\n",
       "       [6.27122939],\n",
       "       [3.78211851],\n",
       "       [5.03640438],\n",
       "       [4.16977913],\n",
       "       [8.23140156],\n",
       "       [3.16815437],\n",
       "       [6.75140062],\n",
       "       [4.28876148],\n",
       "       [5.10962124],\n",
       "       [5.33720295],\n",
       "       [7.1882772 ],\n",
       "       [3.66264218],\n",
       "       [6.22239455],\n",
       "       [6.4290383 ],\n",
       "       [4.90422378],\n",
       "       [4.56056884],\n",
       "       [5.75614446],\n",
       "       [4.39943343],\n",
       "       [3.7688969 ],\n",
       "       [6.43551696],\n",
       "       [4.68421047],\n",
       "       [4.37052792],\n",
       "       [3.05057879],\n",
       "       [5.33635881],\n",
       "       [8.91367788],\n",
       "       [5.18955957],\n",
       "       [2.87464123]])"
      ]
     },
     "execution_count": 8,
     "metadata": {},
     "output_type": "execute_result"
    }
   ],
   "source": [
    "y=4+3*x+np.random.randn(100,1)\n",
    "y"
   ]
  },
  {
   "cell_type": "code",
   "execution_count": 9,
   "metadata": {},
   "outputs": [
    {
     "data": {
      "text/plain": [
       "[<matplotlib.lines.Line2D at 0x21ca9a8b00>]"
      ]
     },
     "execution_count": 9,
     "metadata": {},
     "output_type": "execute_result"
    },
    {
     "data": {
      "image/png": "[encoded data removed]",
      "text/plain": [
       "<Figure size 432x288 with 1 Axes>"
      ]
     },
     "metadata": {
      "needs_background": "light"
     },
     "output_type": "display_data"
    }
   ],
   "source": [
    "plt.plot(x,y,'.')"
   ]
  },
  {
   "cell_type": "code",
   "execution_count": 10,
   "metadata": {},
   "outputs": [
    {
     "data": {
      "text/plain": [
       "array([[1.        , 0.13616707],\n",
       "       [1.        , 0.07678686],\n",
       "       [1.        , 0.96568953],\n",
       "       [1.        , 0.64271067],\n",
       "       [1.        , 0.14177127],\n",
       "       [1.        , 0.89959189],\n",
       "       [1.        , 0.64840202],\n",
       "       [1.        , 0.3843995 ],\n",
       "       [1.        , 0.27164058],\n",
       "       [1.        , 0.36463246],\n",
       "       [1.        , 0.70786757],\n",
       "       [1.        , 0.61185175],\n",
       "       [1.        , 0.50038309],\n",
       "       [1.        , 0.81966852],\n",
       "       [1.        , 0.9789742 ],\n",
       "       [1.        , 0.10904086],\n",
       "       [1.        , 0.95800371],\n",
       "       [1.        , 0.74071567],\n",
       "       [1.        , 0.92586252],\n",
       "       [1.        , 0.48775527],\n",
       "       [1.        , 0.82839505],\n",
       "       [1.        , 0.83631888],\n",
       "       [1.        , 0.8432282 ],\n",
       "       [1.        , 0.21665134],\n",
       "       [1.        , 0.99358158],\n",
       "       [1.        , 0.79411526],\n",
       "       [1.        , 0.13662674],\n",
       "       [1.        , 0.34440626],\n",
       "       [1.        , 0.93263512],\n",
       "       [1.        , 0.14556544],\n",
       "       [1.        , 0.18334981],\n",
       "       [1.        , 0.53554602],\n",
       "       [1.        , 0.58045515],\n",
       "       [1.        , 0.71846423],\n",
       "       [1.        , 0.03238422],\n",
       "       [1.        , 0.37573617],\n",
       "       [1.        , 0.29038229],\n",
       "       [1.        , 0.32952248],\n",
       "       [1.        , 0.63821859],\n",
       "       [1.        , 0.91694796],\n",
       "       [1.        , 0.39929042],\n",
       "       [1.        , 0.15555834],\n",
       "       [1.        , 0.58102589],\n",
       "       [1.        , 0.13149847],\n",
       "       [1.        , 0.37311505],\n",
       "       [1.        , 0.08287791],\n",
       "       [1.        , 0.62240819],\n",
       "       [1.        , 0.43993549],\n",
       "       [1.        , 0.38430248],\n",
       "       [1.        , 0.44433356],\n",
       "       [1.        , 0.14370581],\n",
       "       [1.        , 0.64851814],\n",
       "       [1.        , 0.58773662],\n",
       "       [1.        , 0.75018293],\n",
       "       [1.        , 0.7516119 ],\n",
       "       [1.        , 0.79025413],\n",
       "       [1.        , 0.04210751],\n",
       "       [1.        , 0.88717002],\n",
       "       [1.        , 0.13309692],\n",
       "       [1.        , 0.84203757],\n",
       "       [1.        , 0.36703236],\n",
       "       [1.        , 0.46918937],\n",
       "       [1.        , 0.31243981],\n",
       "       [1.        , 0.7219421 ],\n",
       "       [1.        , 0.97201458],\n",
       "       [1.        , 0.11411146],\n",
       "       [1.        , 0.66799585],\n",
       "       [1.        , 0.15595853],\n",
       "       [1.        , 0.14587146],\n",
       "       [1.        , 0.38402928],\n",
       "       [1.        , 0.61407353],\n",
       "       [1.        , 0.27217522],\n",
       "       [1.        , 0.05684178],\n",
       "       [1.        , 0.60958076],\n",
       "       [1.        , 0.08064249],\n",
       "       [1.        , 0.72629808],\n",
       "       [1.        , 0.36486405],\n",
       "       [1.        , 0.94953731],\n",
       "       [1.        , 0.15116202],\n",
       "       [1.        , 0.87132035],\n",
       "       [1.        , 0.20842698],\n",
       "       [1.        , 0.26401452],\n",
       "       [1.        , 0.27819303],\n",
       "       [1.        , 0.50348212],\n",
       "       [1.        , 0.06130931],\n",
       "       [1.        , 0.80598576],\n",
       "       [1.        , 0.22935711],\n",
       "       [1.        , 0.468941  ],\n",
       "       [1.        , 0.01564471],\n",
       "       [1.        , 0.57788561],\n",
       "       [1.        , 0.46553553],\n",
       "       [1.        , 0.32621075],\n",
       "       [1.        , 0.86475158],\n",
       "       [1.        , 0.3251536 ],\n",
       "       [1.        , 0.48749453],\n",
       "       [1.        , 0.57112268],\n",
       "       [1.        , 0.55190183],\n",
       "       [1.        , 0.622653  ],\n",
       "       [1.        , 0.09612822],\n",
       "       [1.        , 0.09634897]])"
      ]
     },
     "execution_count": 10,
     "metadata": {},
     "output_type": "execute_result"
    }
   ],
   "source": [
    "x_b=np.c_[np.ones((100,1)),x]\n",
    "x_b"
   ]
  },
  {
   "cell_type": "code",
   "execution_count": 16,
   "metadata": {},
   "outputs": [
    {
     "data": {
      "text/plain": [
       "array([[3.98664271],\n",
       "       [3.22578806]])"
      ]
     },
     "execution_count": 16,
     "metadata": {},
     "output_type": "execute_result"
    }
   ],
   "source": [
    "theta_best=np.linalg.inv(x_b.T.dot(x_b)).dot(x_b.T).dot(y)\n",
    "theta_best"
   ]
  },
  {
   "cell_type": "code",
   "execution_count": 12,
   "metadata": {},
   "outputs": [
    {
     "data": {
      "text/plain": [
       "array([[0],\n",
       "       [2]])"
      ]
     },
     "execution_count": 12,
     "metadata": {},
     "output_type": "execute_result"
    }
   ],
   "source": [
    "x_new=np.array([[0],[2]])\n",
    "x_new"
   ]
  },
  {
   "cell_type": "code",
   "execution_count": 14,
   "metadata": {},
   "outputs": [
    {
     "data": {
      "text/plain": [
       "array([[1., 0.],\n",
       "       [1., 2.]])"
      ]
     },
     "execution_count": 14,
     "metadata": {},
     "output_type": "execute_result"
    }
   ],
   "source": [
    "x_new_b=np.c_[np.ones((2,1)),x_new]\n",
    "x_new_b"
   ]
  },
  {
   "cell_type": "code",
   "execution_count": 17,
   "metadata": {},
   "outputs": [
    {
     "data": {
      "text/plain": [
       "array([[ 3.98664271],\n",
       "       [10.43821884]])"
      ]
     },
     "execution_count": 17,
     "metadata": {},
     "output_type": "execute_result"
    }
   ],
   "source": [
    "y_predict=x_new_b.dot(theta_best)\n",
    "y_predict"
   ]
  },
  {
   "cell_type": "code",
   "execution_count": 18,
   "metadata": {},
   "outputs": [
    {
     "data": {
      "text/plain": [
       "[0, 2, 0, 15]"
      ]
     },
     "execution_count": 18,
     "metadata": {},
     "output_type": "execute_result"
    },
    {
     "data": {
      "image/png": "[encoded data removed]",
      "text/plain": [
       "<Figure size 432x288 with 1 Axes>"
      ]
     },
     "metadata": {
      "needs_background": "light"
     },
     "output_type": "display_data"
    }
   ],
   "source": [
    "plt.plot(x_new,y_predict,'r')\n",
    "plt.plot(x,y,'.')\n",
    "plt.axis([0,2,0,15])"
   ]
  },
  {
   "cell_type": "code",
   "execution_count": 20,
   "metadata": {},
   "outputs": [
    {
     "ename": "ModuleNotFoundError",
     "evalue": "No module named 'sklearn'",
     "output_type": "error",
     "traceback": [
      "\u001b[1;31m---------------------------------------------------------------------------\u001b[0m",
      "\u001b[1;31mModuleNotFoundError\u001b[0m                       Traceback (most recent call last)",
      "\u001b[1;32m<ipython-input-20-ec7a908b94bd>\u001b[0m in \u001b[0;36m<module>\u001b[1;34m\u001b[0m\n\u001b[1;32m----> 1\u001b[1;33m \u001b[1;32mfrom\u001b[0m \u001b[0msklearn\u001b[0m\u001b[1;33m.\u001b[0m\u001b[0mlinear_model\u001b[0m \u001b[1;32mimport\u001b[0m \u001b[0mLinearRegression\u001b[0m\u001b[1;33m\u001b[0m\u001b[0m\n\u001b[0m\u001b[0;32m      2\u001b[0m \u001b[0mlin_reg\u001b[0m\u001b[1;33m=\u001b[0m\u001b[0mLinearRegression\u001b[0m\u001b[1;33m(\u001b[0m\u001b[1;33m)\u001b[0m\u001b[1;33m\u001b[0m\u001b[0m\n\u001b[0;32m      3\u001b[0m \u001b[0mlin_reg\u001b[0m\u001b[1;33m=\u001b[0m\u001b[0mfit\u001b[0m\u001b[1;33m(\u001b[0m\u001b[0mx\u001b[0m\u001b[1;33m,\u001b[0m\u001b[0my\u001b[0m\u001b[1;33m)\u001b[0m\u001b[1;33m\u001b[0m\u001b[0m\n\u001b[0;32m      4\u001b[0m \u001b[0mlin_reg\u001b[0m\u001b[1;33m.\u001b[0m\u001b[0mintercept_\u001b[0m\u001b[1;33m,\u001b[0m\u001b[0mlin_reg\u001b[0m\u001b[1;33m.\u001b[0m\u001b[0mcoef_\u001b[0m\u001b[1;33m\u001b[0m\u001b[0m\n",
      "\u001b[1;31mModuleNotFoundError\u001b[0m: No module named 'sklearn'"
     ]
    }
   ],
   "source": [
    "from sklearn.linear_model import LinearRegression\n",
    "lin_reg=LinearRegression()\n",
    "lin_reg=fit(x,y)\n",
    "lin_reg.intercept_,lin_reg.coef_"
   ]
  },
  {
   "cell_type": "code",
   "execution_count": 21,
   "metadata": {},
   "outputs": [
    {
     "ename": "NameError",
     "evalue": "name 'lin_reg' is not defined",
     "output_type": "error",
     "traceback": [
      "\u001b[1;31m---------------------------------------------------------------------------\u001b[0m",
      "\u001b[1;31mNameError\u001b[0m                                 Traceback (most recent call last)",
      "\u001b[1;32m<ipython-input-21-2406819690cc>\u001b[0m in \u001b[0;36m<module>\u001b[1;34m\u001b[0m\n\u001b[1;32m----> 1\u001b[1;33m \u001b[0mlin_reg\u001b[0m\u001b[1;33m.\u001b[0m\u001b[0mpredict\u001b[0m\u001b[1;33m(\u001b[0m\u001b[0mx_new\u001b[0m\u001b[1;33m)\u001b[0m\u001b[1;33m\u001b[0m\u001b[0m\n\u001b[0m",
      "\u001b[1;31mNameError\u001b[0m: name 'lin_reg' is not defined"
     ]
    }
   ],
   "source": [
    "lin_reg.predict(x_new)"
   ]
  },
  {
   "cell_type": "markdown",
   "metadata": {},
   "source": [
    "###  Graient Descent"
   ]
  },
  {
   "cell_type": "code",
   "execution_count": 22,
   "metadata": {},
   "outputs": [
    {
     "data": {
      "text/plain": [
       "array([[0.76373448],\n",
       "       [0.27388813]])"
      ]
     },
     "execution_count": 22,
     "metadata": {},
     "output_type": "execute_result"
    }
   ],
   "source": [
    "eta=0.1\n",
    "n_iterations=1000\n",
    "m=100\n",
    "theta=np.random.randn(2,1)\n",
    "theta"
   ]
  },
  {
   "cell_type": "code",
   "execution_count": 27,
   "metadata": {},
   "outputs": [
    {
     "data": {
      "text/plain": [
       "array([[3.98664271],\n",
       "       [3.22578806]])"
      ]
     },
     "execution_count": 27,
     "metadata": {},
     "output_type": "execute_result"
    }
   ],
   "source": [
    "for iteration in range(n_iterations):\n",
    "    gradients=2/m*x_b.T.dot(x_b.dot(theta)-y)\n",
    "    theta-=eta*gradients\n",
    "theta"
   ]
  },
  {
   "cell_type": "code",
   "execution_count": 30,
   "metadata": {},
   "outputs": [],
   "source": [
    "# Let's look at the following example\n",
    "m=100\n",
    "x=6*np.random.rand(m,1)-3\n",
    "y=0.5*x**2+x+2+np.random.randn(m,1)"
   ]
  },
  {
   "cell_type": "code",
   "execution_count": 31,
   "metadata": {},
   "outputs": [
    {
     "data": {
      "text/plain": [
       "[<matplotlib.lines.Line2D at 0x21caadb358>]"
      ]
     },
     "execution_count": 31,
     "metadata": {},
     "output_type": "execute_result"
    },
    {
     "data": {
      "image/png": "[encoded data removed]",
      "text/plain": [
       "<Figure size 432x288 with 1 Axes>"
      ]
     },
     "metadata": {
      "needs_background": "light"
     },
     "output_type": "display_data"
    }
   ],
   "source": [
    "import matplotlib.pyplot as plt\n",
    "plt.plot(x,y,'.')"
   ]
  },
  {
   "cell_type": "markdown",
   "metadata": {},
   "source": [
    "###  Polynomial Regression"
   ]
  },
  {
   "cell_type": "code",
   "execution_count": 32,
   "metadata": {},
   "outputs": [
    {
     "ename": "ModuleNotFoundError",
     "evalue": "No module named 'sklearn'",
     "output_type": "error",
     "traceback": [
      "\u001b[1;31m---------------------------------------------------------------------------\u001b[0m",
      "\u001b[1;31mModuleNotFoundError\u001b[0m                       Traceback (most recent call last)",
      "\u001b[1;32m<ipython-input-32-1d0fda2e5e96>\u001b[0m in \u001b[0;36m<module>\u001b[1;34m\u001b[0m\n\u001b[1;32m----> 1\u001b[1;33m \u001b[1;32mfrom\u001b[0m \u001b[0msklearn\u001b[0m\u001b[1;33m.\u001b[0m\u001b[0mpreprocession\u001b[0m \u001b[1;32mimport\u001b[0m \u001b[0mPolynomialFeatures\u001b[0m\u001b[1;33m\u001b[0m\u001b[0m\n\u001b[0m\u001b[0;32m      2\u001b[0m \u001b[0mpoly_features\u001b[0m\u001b[1;33m=\u001b[0m\u001b[0mPolynomialFeatures\u001b[0m\u001b[1;33m(\u001b[0m\u001b[0mdegree\u001b[0m\u001b[1;33m=\u001b[0m\u001b[1;36m2\u001b[0m\u001b[1;33m,\u001b[0m\u001b[0mincluding_bias\u001b[0m\u001b[1;33m=\u001b[0m\u001b[1;32mFalse\u001b[0m\u001b[1;33m)\u001b[0m\u001b[1;33m\u001b[0m\u001b[0m\n",
      "\u001b[1;31mModuleNotFoundError\u001b[0m: No module named 'sklearn'"
     ]
    }
   ],
   "source": [
    "from sklearn.preprocession import PolynomialFeatures\n",
    "poly_features=PolynomialFeatures(degree=2,including_bias=False)"
   ]
  },
  {
   "cell_type": "code",
   "execution_count": 33,
   "metadata": {},
   "outputs": [
    {
     "ename": "NameError",
     "evalue": "name 'poly_features' is not defined",
     "output_type": "error",
     "traceback": [
      "\u001b[1;31m---------------------------------------------------------------------------\u001b[0m",
      "\u001b[1;31mNameError\u001b[0m                                 Traceback (most recent call last)",
      "\u001b[1;32m<ipython-input-33-ee00f1e694c8>\u001b[0m in \u001b[0;36m<module>\u001b[1;34m\u001b[0m\n\u001b[1;32m----> 1\u001b[1;33m \u001b[0mx_poly\u001b[0m\u001b[1;33m=\u001b[0m\u001b[0mpoly_features\u001b[0m\u001b[1;33m.\u001b[0m\u001b[0mfit_transform\u001b[0m\u001b[1;33m(\u001b[0m\u001b[0mx\u001b[0m\u001b[1;33m)\u001b[0m\u001b[1;33m\u001b[0m\u001b[0m\n\u001b[0m",
      "\u001b[1;31mNameError\u001b[0m: name 'poly_features' is not defined"
     ]
    }
   ],
   "source": [
    "x_poly=poly_features.fit_transform(x)"
   ]
  },
  {
   "cell_type": "code",
   "execution_count": 35,
   "metadata": {},
   "outputs": [
    {
     "data": {
      "text/plain": [
       "0"
      ]
     },
     "execution_count": 35,
     "metadata": {},
     "output_type": "execute_result"
    }
   ],
   "source": [
    "x[0]"
   ]
  },
  {
   "cell_type": "code",
   "execution_count": 36,
   "metadata": {},
   "outputs": [
    {
     "ename": "NameError",
     "evalue": "name 'x_poly' is not defined",
     "output_type": "error",
     "traceback": [
      "\u001b[1;31m---------------------------------------------------------------------------\u001b[0m",
      "\u001b[1;31mNameError\u001b[0m                                 Traceback (most recent call last)",
      "\u001b[1;32m<ipython-input-36-da9724b5321b>\u001b[0m in \u001b[0;36m<module>\u001b[1;34m\u001b[0m\n\u001b[1;32m----> 1\u001b[1;33m \u001b[0mx_poly\u001b[0m\u001b[1;33m[\u001b[0m\u001b[1;36m0\u001b[0m\u001b[1;33m]\u001b[0m\u001b[1;33m\u001b[0m\u001b[0m\n\u001b[0m",
      "\u001b[1;31mNameError\u001b[0m: name 'x_poly' is not defined"
     ]
    }
   ],
   "source": [
    "x_poly[0]"
   ]
  },
  {
   "cell_type": "markdown",
   "metadata": {},
   "source": [
    "##### X-poly:\n",
    "- contains the origiinal feature of x olus the square of this feature, now we can fit a Linear Regression model to this extracted training data"
   ]
  },
  {
   "cell_type": "code",
   "execution_count": 37,
   "metadata": {},
   "outputs": [
    {
     "ename": "ModuleNotFoundError",
     "evalue": "No module named 'sklearn'",
     "output_type": "error",
     "traceback": [
      "\u001b[1;31m---------------------------------------------------------------------------\u001b[0m",
      "\u001b[1;31mModuleNotFoundError\u001b[0m                       Traceback (most recent call last)",
      "\u001b[1;32m<ipython-input-37-405386504bf4>\u001b[0m in \u001b[0;36m<module>\u001b[1;34m\u001b[0m\n\u001b[1;32m----> 1\u001b[1;33m \u001b[1;32mfrom\u001b[0m \u001b[0msklearn\u001b[0m\u001b[1;33m.\u001b[0m\u001b[0mlinear_model\u001b[0m \u001b[1;32mimport\u001b[0m \u001b[0mLinearRegression\u001b[0m\u001b[1;33m\u001b[0m\u001b[0m\n\u001b[0m\u001b[0;32m      2\u001b[0m \u001b[0mlin_reg\u001b[0m\u001b[1;33m=\u001b[0m\u001b[0mLinearRegression\u001b[0m\u001b[1;33m(\u001b[0m\u001b[1;33m)\u001b[0m\u001b[1;33m\u001b[0m\u001b[0m\n",
      "\u001b[1;31mModuleNotFoundError\u001b[0m: No module named 'sklearn'"
     ]
    }
   ],
   "source": [
    "from sklearn.linear_model import LinearRegression\n",
    "lin_reg=LinearRegression()"
   ]
  },
  {
   "cell_type": "code",
   "execution_count": 38,
   "metadata": {},
   "outputs": [
    {
     "ename": "NameError",
     "evalue": "name 'lin_reg' is not defined",
     "output_type": "error",
     "traceback": [
      "\u001b[1;31m---------------------------------------------------------------------------\u001b[0m",
      "\u001b[1;31mNameError\u001b[0m                                 Traceback (most recent call last)",
      "\u001b[1;32m<ipython-input-38-977d223beb76>\u001b[0m in \u001b[0;36m<module>\u001b[1;34m\u001b[0m\n\u001b[1;32m----> 1\u001b[1;33m \u001b[0mlin_reg\u001b[0m\u001b[1;33m.\u001b[0m\u001b[0mfit\u001b[0m\u001b[1;33m(\u001b[0m\u001b[0mx_pol\u001b[0m\u001b[1;33m,\u001b[0m\u001b[0my\u001b[0m\u001b[1;33m)\u001b[0m\u001b[1;33m\u001b[0m\u001b[0m\n\u001b[0m",
      "\u001b[1;31mNameError\u001b[0m: name 'lin_reg' is not defined"
     ]
    }
   ],
   "source": [
    "lin_reg.fit(x_pol,y)\n",
    "lin_reg.intercept_."
   ]
  },
  {
   "cell_type": "code",
   "execution_count": null,
   "metadata": {},
   "outputs": [],
   "source": []
  },
  {
   "cell_type": "markdown",
   "metadata": {},
   "source": [
    "## Logistic Regression"
   ]
  },
  {
   "cell_type": "code",
   "execution_count": null,
   "metadata": {},
   "outputs": [],
   "source": []
  }
 ],
 "metadata": {
  "kernelspec": {
   "display_name": "Python 3",
   "language": "python",
   "name": "python3"
  },
  "language_info": {
   "codemirror_mode": {
    "name": "ipython",
    "version": 3
   },
   "file_extension": ".py",
   "mimetype": "text/x-python",
   "name": "python",
   "nbconvert_exporter": "python",
   "pygments_lexer": "ipython3",
   "version": "3.6.6"
  }
 },
 "nbformat": 4,
 "nbformat_minor": 2
}
