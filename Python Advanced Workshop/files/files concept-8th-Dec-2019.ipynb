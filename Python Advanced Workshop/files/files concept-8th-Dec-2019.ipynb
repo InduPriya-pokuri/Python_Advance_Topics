{
 "cells": [
  {
   "cell_type": "code",
   "execution_count": 3,
   "metadata": {
    "collapsed": true
   },
   "outputs": [
    {
     "data": {
      "text/plain": [
       "'1.print()\\n2. variable declaration\\n3. datatypes in python\\n\\tinteger-> int,double\\n\\tfloating values-. float\\n\\tstrings\\n4. taking input from user\\n\\tinput()\\n\\tint(input())\\n\\tfloat(input())\\n\\t\\n5. conditional statements\\n\\tonly if \\n\\tif-else\\n\\tif-else-if(elif)\\n\\tnested-if\\n6. looping / iterative statements\\n\\ttypes of loops:\\n\\t\\twhile and for\\n\\t\\texamples for while\\n\\t\\texamples and pattern printing using for loop\\n7. data structures in python\\n\\tlists\\t\\n\\ttuples\\n\\tstrings\\n\\tdictionaries\\n8. list comprehension\\n9. dictionary comprehension\\n10. maps and filters\\n11. iterators and generators\\n\\nComing to Data Science\\nall packages: numpy , pandas,matplotlib seaborn\\nexamples and data sets\\n\\t\\n'"
      ]
     },
     "execution_count": 3,
     "metadata": {},
     "output_type": "execute_result"
    }
   ],
   "source": [
    "file=open('notes.txt','r')\n",
    "file.read()"
   ]
  },
  {
   "cell_type": "code",
   "execution_count": null,
   "metadata": {},
   "outputs": [],
   "source": []
  },
  {
   "cell_type": "code",
   "execution_count": 4,
   "metadata": {},
   "outputs": [
    {
     "name": "stdout",
     "output_type": "stream",
     "text": [
      "1.print()\n",
      "2. variable declaration\n",
      "3. datatypes in python\n",
      "\tinteger-> int,double\n",
      "\tfloating values-. float\n",
      "\tstrings\n",
      "4. taking input from user\n",
      "\tinput()\n",
      "\tint(input())\n",
      "\tfloat(input())\n",
      "\t\n",
      "5. conditional state\n"
     ]
    }
   ],
   "source": [
    "data=open('notes.txt','r')\n",
    "print(data.read(200)) # retrieving up to 200 characters"
   ]
  },
  {
   "cell_type": "code",
   "execution_count": 5,
   "metadata": {
    "collapsed": true
   },
   "outputs": [
    {
     "name": "stdout",
     "output_type": "stream",
     "text": [
      "ments\n",
      "\n",
      "\tonly if \n",
      "\n",
      "\tif-else\n",
      "\n",
      "\tif-else-if(elif)\n",
      "\n",
      "\tnested-if\n",
      "\n",
      "6. looping / iterative statements\n",
      "\n",
      "\ttypes of loops:\n",
      "\n",
      "\t\twhile and for\n",
      "\n",
      "\t\texamples for while\n",
      "\n",
      "\t\texamples and pattern printing using for loop\n",
      "\n",
      "7. data structures in python\n",
      "\n",
      "\tlists\t\n",
      "\n",
      "\ttuples\n",
      "\n",
      "\tstrings\n",
      "\n",
      "\tdictionaries\n",
      "\n",
      "8. list comprehension\n",
      "\n",
      "9. dictionary comprehension\n",
      "\n",
      "10. maps and filters\n",
      "\n",
      "11. iterators and generators\n",
      "\n",
      "\n",
      "\n",
      "Coming to Data Science\n",
      "\n",
      "all packages: numpy , pandas,matplotlib seaborn\n",
      "\n",
      "examples and data sets\n",
      "\n",
      "\t\n",
      "\n"
     ]
    }
   ],
   "source": [
    "for word in data:\n",
    "    print(word)"
   ]
  },
  {
   "cell_type": "code",
   "execution_count": 6,
   "metadata": {},
   "outputs": [
    {
     "data": {
      "text/plain": [
       "70"
      ]
     },
     "execution_count": 6,
     "metadata": {},
     "output_type": "execute_result"
    }
   ],
   "source": [
    "d=open('data.txt','w')\n",
    "d.write('This is a write command \\n that overwrites the data in the current file')"
   ]
  },
  {
   "cell_type": "code",
   "execution_count": 7,
   "metadata": {},
   "outputs": [],
   "source": [
    "o=open('data.txt','r')\n",
    "for content in o:\n",
    "    print(content)"
   ]
  },
  {
   "cell_type": "code",
   "execution_count": 8,
   "metadata": {},
   "outputs": [],
   "source": [
    "app=open('data.txt','a')\n",
    "w=app.write('A new content is added to the file')\n",
    "app.close()"
   ]
  },
  {
   "cell_type": "code",
   "execution_count": 9,
   "metadata": {},
   "outputs": [
    {
     "name": "stdout",
     "output_type": "stream",
     "text": [
      "A new content is added to the file\n"
     ]
    }
   ],
   "source": [
    "o2=open('data.txt')\n",
    "for word in o2:\n",
    "    print(word)"
   ]
  },
  {
   "cell_type": "code",
   "execution_count": 10,
   "metadata": {},
   "outputs": [
    {
     "name": "stdout",
     "output_type": "stream",
     "text": [
      "['A', 'new', 'content', 'is', 'added', 'to', 'the', 'file']\n"
     ]
    }
   ],
   "source": [
    "with open('data.txt') as f:\n",
    "    data=f.readlines()\n",
    "    for line in data:\n",
    "        word=line.split()\n",
    "        print(word)\n",
    "        "
   ]
  },
  {
   "cell_type": "code",
   "execution_count": 11,
   "metadata": {},
   "outputs": [
    {
     "name": "stdout",
     "output_type": "stream",
     "text": [
      "characters are  654\n",
      "no.of words are  88\n",
      "36\n"
     ]
    }
   ],
   "source": [
    "# no.of characters, words and lines\n",
    "dt=open('notes.txt','r')\n",
    "c=dt.read()\n",
    "ch_c=0\n",
    "for ch in c:\n",
    "    ch_c+=1\n",
    "print(\"characters are \",ch_c)\n",
    "word_c=0\n",
    "for word in c.split():\n",
    "    word_c+=1\n",
    "print(\"no.of words are \",word_c)\n",
    "line_c=0\n",
    "for line in c.split('\\n'):\n",
    "    line_c+=1\n",
    "print(line_c)"
   ]
  },
  {
   "cell_type": "code",
   "execution_count": 12,
   "metadata": {
    "collapsed": true
   },
   "outputs": [
    {
     "data": {
      "text/plain": [
       "['_CHUNK_SIZE',\n",
       " '__class__',\n",
       " '__del__',\n",
       " '__delattr__',\n",
       " '__dict__',\n",
       " '__dir__',\n",
       " '__doc__',\n",
       " '__enter__',\n",
       " '__eq__',\n",
       " '__exit__',\n",
       " '__format__',\n",
       " '__ge__',\n",
       " '__getattribute__',\n",
       " '__getstate__',\n",
       " '__gt__',\n",
       " '__hash__',\n",
       " '__init__',\n",
       " '__init_subclass__',\n",
       " '__iter__',\n",
       " '__le__',\n",
       " '__lt__',\n",
       " '__ne__',\n",
       " '__new__',\n",
       " '__next__',\n",
       " '__reduce__',\n",
       " '__reduce_ex__',\n",
       " '__repr__',\n",
       " '__setattr__',\n",
       " '__sizeof__',\n",
       " '__str__',\n",
       " '__subclasshook__',\n",
       " '_checkClosed',\n",
       " '_checkReadable',\n",
       " '_checkSeekable',\n",
       " '_checkWritable',\n",
       " '_finalizing',\n",
       " 'buffer',\n",
       " 'close',\n",
       " 'closed',\n",
       " 'detach',\n",
       " 'encoding',\n",
       " 'errors',\n",
       " 'fileno',\n",
       " 'flush',\n",
       " 'isatty',\n",
       " 'line_buffering',\n",
       " 'mode',\n",
       " 'name',\n",
       " 'newlines',\n",
       " 'read',\n",
       " 'readable',\n",
       " 'readline',\n",
       " 'readlines',\n",
       " 'reconfigure',\n",
       " 'seek',\n",
       " 'seekable',\n",
       " 'tell',\n",
       " 'truncate',\n",
       " 'writable',\n",
       " 'write',\n",
       " 'write_through',\n",
       " 'writelines']"
      ]
     },
     "execution_count": 12,
     "metadata": {},
     "output_type": "execute_result"
    }
   ],
   "source": [
    "dir(dt)"
   ]
  },
  {
   "cell_type": "code",
   "execution_count": 13,
   "metadata": {
    "collapsed": true
   },
   "outputs": [
    {
     "name": "stdout",
     "output_type": "stream",
     "text": [
      "Help on built-in function readlines:\n",
      "\n",
      "readlines(hint=-1, /) method of _io.TextIOWrapper instance\n",
      "    Return a list of lines from the stream.\n",
      "    \n",
      "    hint can be specified to control the number of lines read: no more\n",
      "    lines will be read if the total size (in bytes/characters) of all\n",
      "    lines so far exceeds hint.\n",
      "\n"
     ]
    }
   ],
   "source": [
    "help(dt.readlines)"
   ]
  },
  {
   "cell_type": "code",
   "execution_count": 14,
   "metadata": {
    "collapsed": true
   },
   "outputs": [
    {
     "name": "stdout",
     "output_type": "stream",
     "text": [
      "['1.print()\\n', '2. variable declaration\\n', '3. datatypes in python\\n', '\\tinteger-> int,double\\n', '\\tfloating values-. float\\n', '\\tstrings\\n', '4. taking input from user\\n', '\\tinput()\\n', '\\tint(input())\\n', '\\tfloat(input())\\n', '\\t\\n', '5. conditional statements\\n', '\\tonly if \\n', '\\tif-else\\n', '\\tif-else-if(elif)\\n', '\\tnested-if\\n', '6. looping / iterative statements\\n', '\\ttypes of loops:\\n', '\\t\\twhile and for\\n', '\\t\\texamples for while\\n', '\\t\\texamples and pattern printing using for loop\\n', '7. data structures in python\\n', '\\tlists\\t\\n', '\\ttuples\\n', '\\tstrings\\n', '\\tdictionaries\\n', '8. list comprehension\\n', '9. dictionary comprehension\\n', '10. maps and filters\\n', '11. iterators and generators\\n', '\\n', 'Coming to Data Science\\n', 'all packages: numpy , pandas,matplotlib seaborn\\n', 'examples and data sets\\n', '\\t\\n']\n"
     ]
    }
   ],
   "source": [
    "ch=open('notes.txt','r')\n",
    "print(ch.readlines()) # splling content with ,s"
   ]
  },
  {
   "cell_type": "code",
   "execution_count": null,
   "metadata": {},
   "outputs": [],
   "source": []
  },
  {
   "cell_type": "code",
   "execution_count": null,
   "metadata": {},
   "outputs": [],
   "source": []
  }
 ],
 "metadata": {
  "kernelspec": {
   "display_name": "Python 3",
   "language": "python",
   "name": "python3"
  },
  "language_info": {
   "codemirror_mode": {
    "name": "ipython",
    "version": 3
   },
   "file_extension": ".py",
   "mimetype": "text/x-python",
   "name": "python",
   "nbconvert_exporter": "python",
   "pygments_lexer": "ipython3",
   "version": "3.7.4"
  }
 },
 "nbformat": 4,
 "nbformat_minor": 2
}
