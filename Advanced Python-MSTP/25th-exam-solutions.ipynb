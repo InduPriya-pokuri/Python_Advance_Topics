{
 "cells": [
  {
   "cell_type": "code",
   "execution_count": null,
   "metadata": {},
   "outputs": [],
   "source": [
    "n=int(input())\n",
    "li=[]\n",
    "for num in range(1,n+1):\n",
    "    li.append(list(map(int,input().split())))\n",
    "print(li)\n",
    "sorted(li,reverse=False)\n",
    "lx=[x[0] for x in li]\n",
    "lx"
   ]
  },
  {
   "cell_type": "code",
   "execution_count": null,
   "metadata": {},
   "outputs": [],
   "source": [
    "st=input()\n",
    "while st !='EXIT':\n",
    "    for ch in st:\n",
    "        if int(ch)%2==0:\n",
    "            print(ch)\n",
    "        print(max(ch))"
   ]
  },
  {
   "cell_type": "code",
   "execution_count": null,
   "metadata": {},
   "outputs": [],
   "source": []
  }
 ],
 "metadata": {
  "kernelspec": {
   "display_name": "Python 3",
   "language": "python",
   "name": "python3"
  },
  "language_info": {
   "codemirror_mode": {
    "name": "ipython",
    "version": 3
   },
   "file_extension": ".py",
   "mimetype": "text/x-python",
   "name": "python",
   "nbconvert_exporter": "python",
   "pygments_lexer": "ipython3",
   "version": "3.7.4"
  }
 },
 "nbformat": 4,
 "nbformat_minor": 2
}
