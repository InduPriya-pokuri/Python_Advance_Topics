{
 "cells": [
  {
   "cell_type": "code",
   "execution_count": 4,
   "metadata": {},
   "outputs": [
    {
     "name": "stdout",
     "output_type": "stream",
     "text": [
      "count 155\n"
     ]
    }
   ],
   "source": [
    "#count the no.of characters excluding ' ' in files\n",
    "f=open('data.txt','r')\n",
    "t=f.read()\n",
    "count=0\n",
    "for  i in t:\n",
    "    count+=1\n",
    "    if i==' ':\n",
    "        count -=1\n",
    "print('count',count)"
   ]
  },
  {
   "cell_type": "code",
   "execution_count": 9,
   "metadata": {
    "collapsed": true
   },
   "outputs": [
    {
     "name": "stdout",
     "output_type": "stream",
     "text": [
      "alphabets count  36\n",
      "total characters  45\n",
      "my data is over writed\n",
      "hello I am using twice\n"
     ]
    }
   ],
   "source": [
    "file=open('data.txt')\n",
    "data=file.read()\n",
    "count=0\n",
    "for line in data.split('\\n'):\n",
    "    for word in line:\n",
    "        for ch in word:\n",
    "            if ch!=' ':\n",
    "                count+=1\n",
    "print(\"alphabets count \",count)\n",
    "print(\"total characters \",len(data))\n",
    "print(data)"
   ]
  },
  {
   "cell_type": "code",
   "execution_count": 6,
   "metadata": {},
   "outputs": [
    {
     "name": "stdout",
     "output_type": "stream",
     "text": [
      "182\n"
     ]
    }
   ],
   "source": [
    "print(len(data))"
   ]
  },
  {
   "cell_type": "markdown",
   "metadata": {},
   "source": [
    "#### Dictionary Comprehension\n",
    "dic={{}}"
   ]
  },
  {
   "cell_type": "code",
   "execution_count": 10,
   "metadata": {},
   "outputs": [],
   "source": [
    "# write a program to print menu card"
   ]
  },
  {
   "cell_type": "code",
   "execution_count": 11,
   "metadata": {},
   "outputs": [
    {
     "name": "stdout",
     "output_type": "stream",
     "text": [
      "{1: 1, 2: 4, 3: 9, 4: 16, 5: 25, 6: 36, 7: 49, 8: 64, 9: 81}\n"
     ]
    }
   ],
   "source": [
    "dic={num:num**2 for num in range(1,10)}\n",
    "print(dic)"
   ]
  },
  {
   "cell_type": "code",
   "execution_count": 12,
   "metadata": {},
   "outputs": [
    {
     "data": {
      "text/plain": [
       "'\\t'"
      ]
     },
     "execution_count": 12,
     "metadata": {},
     "output_type": "execute_result"
    }
   ],
   "source": [
    "chr(9)"
   ]
  },
  {
   "cell_type": "code",
   "execution_count": 13,
   "metadata": {},
   "outputs": [
    {
     "data": {
      "text/plain": [
       "97"
      ]
     },
     "execution_count": 13,
     "metadata": {},
     "output_type": "execute_result"
    }
   ],
   "source": [
    "ord('a')"
   ]
  },
  {
   "cell_type": "code",
   "execution_count": 17,
   "metadata": {
    "collapsed": true
   },
   "outputs": [
    {
     "name": "stdout",
     "output_type": "stream",
     "text": [
      "Enter a sentence:guntur engineering college\n",
      "u:117\n",
      "117\n",
      "u:117\n",
      "117\n",
      "e:101\n",
      "101\n",
      "i:105\n",
      "105\n",
      "e:101\n",
      "101\n",
      "e:101\n",
      "101\n",
      "i:105\n",
      "105\n",
      "o:111\n",
      "111\n",
      "e:101\n",
      "101\n",
      "e:101\n",
      "101\n"
     ]
    }
   ],
   "source": [
    "st=input(\"Enter a sentence:\")\n",
    "vowels=('a','e','i','o','u')\n",
    "for ch in st:\n",
    "    if ch in vowels:\n",
    "        print(ch,ord(ch),sep=\":\")\n",
    "        print(ord(ch))"
   ]
  },
  {
   "cell_type": "code",
   "execution_count": 21,
   "metadata": {},
   "outputs": [
    {
     "name": "stdout",
     "output_type": "stream",
     "text": [
      "Enter a stingguntur engineering college\n"
     ]
    },
    {
     "data": {
      "text/plain": [
       "{'u': 117, 'e': 101, 'i': 105, 'o': 111}"
      ]
     },
     "execution_count": 21,
     "metadata": {},
     "output_type": "execute_result"
    }
   ],
   "source": [
    "# using dictionary comprehension\n",
    "vowel_dic={ch:ord(ch) for ch in input(\"Enter a sting\") \n",
    "           if ch in vowels}\n",
    "vowel_dic"
   ]
  },
  {
   "cell_type": "code",
   "execution_count": 26,
   "metadata": {},
   "outputs": [
    {
     "name": "stdout",
     "output_type": "stream",
     "text": [
      "Enter string:hi i am some x..\n"
     ]
    },
    {
     "data": {
      "text/plain": [
       "{'h': 10816, ' ': 1024, 'x': 14400, '.': 2116}"
      ]
     },
     "execution_count": 26,
     "metadata": {},
     "output_type": "execute_result"
    }
   ],
   "source": [
    "# write a program to print dictionary \n",
    "#containing characters whose ascii values are even\n",
    "even_asc={ch:ord(ch)**2 for ch in input(\"Enter string:\") \n",
    "          if ord(ch)%2==0}\n",
    "even_asc"
   ]
  },
  {
   "cell_type": "code",
   "execution_count": 23,
   "metadata": {},
   "outputs": [
    {
     "data": {
      "text/plain": [
       "True"
      ]
     },
     "execution_count": 23,
     "metadata": {},
     "output_type": "execute_result"
    }
   ],
   "source": [
    "x=5\n",
    "x is 5"
   ]
  },
  {
   "cell_type": "markdown",
   "metadata": {},
   "source": [
    "### Iterators"
   ]
  },
  {
   "cell_type": "code",
   "execution_count": 28,
   "metadata": {
    "scrolled": true
   },
   "outputs": [
    {
     "name": "stdout",
     "output_type": "stream",
     "text": [
      "1 2 3 4 5 6 7 8 9 10 "
     ]
    }
   ],
   "source": [
    "for num in range(1,11):\n",
    "    print(num,end=\" \")"
   ]
  },
  {
   "cell_type": "code",
   "execution_count": 29,
   "metadata": {},
   "outputs": [],
   "source": [
    "# write a program to check the no. prime or not using functions"
   ]
  },
  {
   "cell_type": "code",
   "execution_count": 38,
   "metadata": {
    "collapsed": true
   },
   "outputs": [
    {
     "ename": "SyntaxError",
     "evalue": "invalid syntax (<ipython-input-38-157978e98f5b>, line 2)",
     "output_type": "error",
     "traceback": [
      "\u001b[1;36m  File \u001b[1;32m\"<ipython-input-38-157978e98f5b>\"\u001b[1;36m, line \u001b[1;32m2\u001b[0m\n\u001b[1;33m    if (a%a==0 and a%1==0 or a%):\u001b[0m\n\u001b[1;37m                               ^\u001b[0m\n\u001b[1;31mSyntaxError\u001b[0m\u001b[1;31m:\u001b[0m invalid syntax\n"
     ]
    }
   ],
   "source": [
    "\n",
    "    if (a%a==0 and a%1==0 or a%):\n",
    "        print(\"prime num\")\n",
    "    else:\n",
    "        print(\"not prime\")\n",
    "    "
   ]
  },
  {
   "cell_type": "code",
   "execution_count": 41,
   "metadata": {
    "collapsed": true
   },
   "outputs": [
    {
     "name": "stdout",
     "output_type": "stream",
     "text": [
      "enter a number:100\n",
      "100 is not a prime number\n"
     ]
    }
   ],
   "source": [
    "def prime(x):\n",
    "    if x>1:\n",
    "        for i in range(2,x):\n",
    "            if x%i==0:\n",
    "                print(x,'is not a prime number')\n",
    "                break\n",
    "            else:\n",
    "                print(x,'is a prime number')\n",
    "                break\n",
    "n=int(input('enter a number:'))\n",
    "prime(n)"
   ]
  },
  {
   "cell_type": "code",
   "execution_count": 43,
   "metadata": {},
   "outputs": [
    {
     "name": "stdout",
     "output_type": "stream",
     "text": [
      "Enter a number:9\n"
     ]
    },
    {
     "data": {
      "text/plain": [
       "False"
      ]
     },
     "execution_count": 43,
     "metadata": {},
     "output_type": "execute_result"
    }
   ],
   "source": [
    "def is_prime(n):\n",
    "    count=0\n",
    "    for num in range(1,n+1):\n",
    "        if n%num==0:\n",
    "            count+=1\n",
    "    if count==2:\n",
    "        return True\n",
    "    else:\n",
    "        return False:\n",
    "    \n",
    "is_prime(int(input(\"Enter a number:\")))"
   ]
  },
  {
   "cell_type": "code",
   "execution_count": 44,
   "metadata": {},
   "outputs": [
    {
     "name": "stdout",
     "output_type": "stream",
     "text": [
      "30\n",
      "100\n",
      "31 37 41 43 47 53 59 61 67 71 73 79 83 89 97 "
     ]
    }
   ],
   "source": [
    "lw=int(input())\n",
    "up=int(input())\n",
    "for num in range(lw,up+1):\n",
    "    if is_prime(num):\n",
    "        print(num,end=\" \")"
   ]
  },
  {
   "cell_type": "code",
   "execution_count": 45,
   "metadata": {
    "collapsed": true
   },
   "outputs": [
    {
     "name": "stdout",
     "output_type": "stream",
     "text": [
      "f\n",
      "r\n",
      "u\n",
      "i\n",
      "t\n"
     ]
    }
   ],
   "source": [
    "st='fruit'\n",
    "for ch in st:\n",
    "    print(ch)"
   ]
  },
  {
   "cell_type": "code",
   "execution_count": 56,
   "metadata": {},
   "outputs": [
    {
     "name": "stdout",
     "output_type": "stream",
     "text": [
      "f\n",
      "r\n"
     ]
    }
   ],
   "source": [
    "iterator=iter(st)\n",
    "print(next(iterator))\n",
    "print(next(iterator))"
   ]
  },
  {
   "cell_type": "code",
   "execution_count": 53,
   "metadata": {
    "collapsed": true
   },
   "outputs": [
    {
     "name": "stdout",
     "output_type": "stream",
     "text": [
      "apple\n",
      "banana\n",
      "pine apple\n",
      "orange\n",
      "...\n",
      "apple\n",
      "banana\n"
     ]
    }
   ],
   "source": [
    "fruits=('apple','banana','pine apple','orange')\n",
    "\n",
    "for fruit in fruits:\n",
    "    print(fruit) \n",
    "    \n",
    "print(\"...\")   \n",
    "fr_iter=iter(fruits)\n",
    "print(next(fr_iter))\n",
    "print(next(fr_iter))"
   ]
  },
  {
   "cell_type": "code",
   "execution_count": 3,
   "metadata": {
    "collapsed": true
   },
   "outputs": [
    {
     "name": "stdout",
     "output_type": "stream",
     "text": [
      "1\n",
      "3\n",
      "5\n",
      "7\n"
     ]
    }
   ],
   "source": [
    "class return_nums:\n",
    "    def __iter__(self):\n",
    "        self.a=1\n",
    "        return self\n",
    "    def __next__(self):\n",
    "        x=self.a\n",
    "        self.a+=2\n",
    "        return x\n",
    "\n",
    "numbers=return_nums()\n",
    "my_iter=iter(numbers)\n",
    "print(next(my_iter))\n",
    "print(next(my_iter))\n",
    "print(next(my_iter))\n",
    "print(next(my_iter))"
   ]
  },
  {
   "cell_type": "code",
   "execution_count": 1,
   "metadata": {
    "collapsed": true
   },
   "outputs": [
    {
     "name": "stdout",
     "output_type": "stream",
     "text": [
      "gec\n",
      "5\n",
      "gec\n",
      "gec\n",
      "gec\n",
      "gec\n",
      "gec\n"
     ]
    }
   ],
   "source": [
    "# write a program to print string ntimes\n",
    "st=input()\n",
    "n=int(input())\n",
    "i=0\n",
    "while i<n:\n",
    "    print(st)\n",
    "    i+=1"
   ]
  },
  {
   "cell_type": "code",
   "execution_count": 10,
   "metadata": {
    "collapsed": true
   },
   "outputs": [
    {
     "name": "stdout",
     "output_type": "stream",
     "text": [
      "15\n",
      "16\n",
      "17\n",
      "18\n",
      "19\n",
      "20\n",
      "<class 'StopIteration'>\n",
      "<class 'StopIteration'>\n",
      "<class 'StopIteration'>\n",
      "<class 'StopIteration'>\n"
     ]
    }
   ],
   "source": [
    "class upto_num:\n",
    "    def __iter__(self):\n",
    "        self.a=15\n",
    "        return self\n",
    "    def __next__(self):\n",
    "        if self.a<=20:\n",
    "            x=self.a\n",
    "            self.a+=1\n",
    "            return x\n",
    "        else:\n",
    "            return StopIteration\n",
    "up=upto_num()\n",
    "my_iter=iter(up)\n",
    "print(next(my_iter))\n",
    "print(next(my_iter))\n",
    "print(next(my_iter))\n",
    "print(next(my_iter))\n",
    "print(next(my_iter))\n",
    "print(next(my_iter))\n",
    "print(next(my_iter))\n",
    "print(next(my_iter))\n",
    "print(next(my_iter))\n",
    "print(next(my_iter))"
   ]
  },
  {
   "cell_type": "code",
   "execution_count": 16,
   "metadata": {},
   "outputs": [
    {
     "data": {
      "text/plain": [
       "1"
      ]
     },
     "execution_count": 16,
     "metadata": {},
     "output_type": "execute_result"
    }
   ],
   "source": [
    "def print_num():\n",
    "    return 1\n",
    "    return 2\n",
    "print_num()"
   ]
  },
  {
   "cell_type": "markdown",
   "metadata": {},
   "source": [
    "### Generator\n",
    "- like normal function\n",
    "- used to work with iterator\n",
    "- ends with yield statement"
   ]
  },
  {
   "cell_type": "code",
   "execution_count": 15,
   "metadata": {
    "collapsed": true
   },
   "outputs": [
    {
     "name": "stdout",
     "output_type": "stream",
     "text": [
      "1\n",
      "2\n",
      "3\n",
      "4\n"
     ]
    }
   ],
   "source": [
    "def generator_example():\n",
    "    yield 1\n",
    "    yield 2\n",
    "    yield 3\n",
    "    yield 4\n",
    "\n",
    "ge=generator_example()\n",
    "for num in ge:\n",
    "    print(num)"
   ]
  },
  {
   "cell_type": "code",
   "execution_count": 20,
   "metadata": {
    "collapsed": true
   },
   "outputs": [
    {
     "name": "stdout",
     "output_type": "stream",
     "text": [
      "1\n",
      "2\n",
      "3\n",
      "4\n"
     ]
    }
   ],
   "source": [
    "for num in generator_example():\n",
    "    print(num)"
   ]
  },
  {
   "cell_type": "code",
   "execution_count": null,
   "metadata": {},
   "outputs": [],
   "source": [
    "def series(num):\n",
    "    a,b=0,1\n",
    "    while a<num:\n",
    "        yield a\n",
    "        a,b=b,a+b\n",
    "s=series(int(input(\"Enter number:\")))\n",
    "for num in s:\n",
    "    print(num)"
   ]
  },
  {
   "cell_type": "markdown",
   "metadata": {},
   "source": [
    "### Filter()\n",
    "- filter(fun,iterable)\n",
    "- normal function result on iterable(true/false)"
   ]
  },
  {
   "cell_type": "code",
   "execution_count": 6,
   "metadata": {
    "collapsed": true
   },
   "outputs": [
    {
     "name": "stdout",
     "output_type": "stream",
     "text": [
      "hi this is gec student\n",
      "i\n",
      "i\n",
      "i\n",
      "e\n",
      "u\n",
      "e\n"
     ]
    }
   ],
   "source": [
    "def filter_vowels(ch):\n",
    "    v=('a','e','i','o','u')\n",
    "    if ch in v:\n",
    "        return True\n",
    "    else:return False\n",
    "    \n",
    "st=input()\n",
    "vowels=filter(filter_vowels,st)\n",
    "for vowel in vowels:\n",
    "    print(vowel)"
   ]
  },
  {
   "cell_type": "code",
   "execution_count": 1,
   "metadata": {
    "collapsed": true
   },
   "outputs": [
    {
     "name": "stdout",
     "output_type": "stream",
     "text": [
      "12\n",
      "True\n",
      "90.4\n",
      "Hi\n"
     ]
    }
   ],
   "source": [
    "random_li=[12,True,False,90.4,'Hi']\n",
    "fil_ob=filter(None,random_li)\n",
    "for obj in fil_ob:\n",
    "    print(obj)"
   ]
  },
  {
   "cell_type": "markdown",
   "metadata": {},
   "source": []
  },
  {
   "cell_type": "markdown",
   "metadata": {},
   "source": [
    "### Lambda\n",
    "- An anonymous function means a function without name\n",
    "- a single expression containing statements\n",
    "- restricted to single expression\n",
    "- Syntax:\n",
    "    - lambda o/p:exp"
   ]
  },
  {
   "cell_type": "code",
   "execution_count": 7,
   "metadata": {},
   "outputs": [
    {
     "name": "stdout",
     "output_type": "stream",
     "text": [
      "1\n"
     ]
    },
    {
     "data": {
      "text/plain": [
       "0"
      ]
     },
     "execution_count": 7,
     "metadata": {},
     "output_type": "execute_result"
    }
   ],
   "source": [
    "# printing the remainder value using lambda function\n",
    "rem=lambda num:num%2\n",
    "print(rem(7))\n",
    "rem(10)"
   ]
  },
  {
   "cell_type": "code",
   "execution_count": 8,
   "metadata": {},
   "outputs": [
    {
     "name": "stdout",
     "output_type": "stream",
     "text": [
      "81\n"
     ]
    }
   ],
   "source": [
    "sq=lambda x:x**2\n",
    "print(sq(9))"
   ]
  },
  {
   "cell_type": "code",
   "execution_count": 10,
   "metadata": {},
   "outputs": [
    {
     "name": "stdout",
     "output_type": "stream",
     "text": [
      "5\n",
      "8\n"
     ]
    },
    {
     "data": {
      "text/plain": [
       "40"
      ]
     },
     "execution_count": 10,
     "metadata": {},
     "output_type": "execute_result"
    }
   ],
   "source": [
    "prod=lambda x,y:x*y\n",
    "prod(int(input()),int(input()))"
   ]
  },
  {
   "cell_type": "code",
   "execution_count": 12,
   "metadata": {},
   "outputs": [
    {
     "name": "stdout",
     "output_type": "stream",
     "text": [
      "20\n"
     ]
    }
   ],
   "source": [
    "def test_res(num):\n",
    "    return lambda x:x*num\n",
    "res=test_res(5)\n",
    "res2=res(4)\n",
    "print(res2)"
   ]
  },
  {
   "cell_type": "code",
   "execution_count": 13,
   "metadata": {},
   "outputs": [
    {
     "name": "stdout",
     "output_type": "stream",
     "text": [
      "8 11 10 80 "
     ]
    }
   ],
   "source": [
    "num_li=[1,8,2,11,5,7,10,80,6]\n",
    "filtered=filter(lambda num:(num>7),num_li)\n",
    "for num in filtered:\n",
    "    print(num,end=\" \")"
   ]
  },
  {
   "cell_type": "markdown",
   "metadata": {},
   "source": [
    "### Map(fun,iterable)\n",
    "- It gives a list of results when a function is applied on iterable"
   ]
  },
  {
   "cell_type": "code",
   "execution_count": 15,
   "metadata": {},
   "outputs": [
    {
     "name": "stdout",
     "output_type": "stream",
     "text": [
      "12 34 3434 4iooeyiurekjrjiejrli\n",
      "12 34 3434 4iooeyiurekjrjiejrli\n"
     ]
    }
   ],
   "source": [
    "st=input()\n",
    "print(st)"
   ]
  },
  {
   "cell_type": "code",
   "execution_count": 18,
   "metadata": {},
   "outputs": [
    {
     "name": "stdout",
     "output_type": "stream",
     "text": [
      "hi@i@am\n",
      "['hi', 'i', 'am']\n"
     ]
    }
   ],
   "source": [
    "st2=input().split('@')\n",
    "print(st2)"
   ]
  },
  {
   "cell_type": "code",
   "execution_count": 2,
   "metadata": {},
   "outputs": [
    {
     "name": "stdout",
     "output_type": "stream",
     "text": [
      "4587 3487 34\n",
      "4587 3487 34 <class 'tuple'>\n"
     ]
    }
   ],
   "source": [
    "nums=tuple(map(int,input().split()))\n",
    "for num in nums:\n",
    "    print(num,end=\" \")\n",
    "print(type(nums))"
   ]
  },
  {
   "cell_type": "code",
   "execution_count": 13,
   "metadata": {},
   "outputs": [
    {
     "name": "stdout",
     "output_type": "stream",
     "text": [
      "[2, 5]\n",
      "[5, 6, 10, 6]\n",
      "(1, 1)\n"
     ]
    }
   ],
   "source": [
    "def find_length(var):\n",
    "    return len(var)\n",
    "\n",
    "fruits=('apple','banana','pine apple','orange')\n",
    "res=list(map(find_length,['hi','hello']))\n",
    "res2=list(map(find_length,fruits))\n",
    "res3=tuple(map(find_length,\"[]\"))\n",
    "print(res)\n",
    "print(res2)\n",
    "print(res3)"
   ]
  },
  {
   "cell_type": "code",
   "execution_count": null,
   "metadata": {},
   "outputs": [],
   "source": []
  },
  {
   "cell_type": "code",
   "execution_count": 17,
   "metadata": {},
   "outputs": [
    {
     "name": "stdout",
     "output_type": "stream",
     "text": [
      "94 23 56 9 54 16 23 85 45\n",
      "71 240\n"
     ]
    }
   ],
   "source": [
    "#min sum and max sum in the list\n",
    "li=list(map(int,input().split()))\n",
    "li.sort()\n",
    "min_sum=sum(li[0:4])\n",
    "max_sum=sum(li[-5:-1])\n",
    "#print(li.sort())\n",
    "print(min_sum,max_sum,sep=\" \")"
   ]
  },
  {
   "cell_type": "code",
   "execution_count": null,
   "metadata": {},
   "outputs": [],
   "source": []
  }
 ],
 "metadata": {
  "kernelspec": {
   "display_name": "Python 3",
   "language": "python",
   "name": "python3"
  },
  "language_info": {
   "codemirror_mode": {
    "name": "ipython",
    "version": 3
   },
   "file_extension": ".py",
   "mimetype": "text/x-python",
   "name": "python",
   "nbconvert_exporter": "python",
   "pygments_lexer": "ipython3",
   "version": "3.7.4"
  }
 },
 "nbformat": 4,
 "nbformat_minor": 2
}
