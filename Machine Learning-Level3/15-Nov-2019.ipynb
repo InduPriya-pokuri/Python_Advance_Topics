{
 "cells": [
  {
   "cell_type": "markdown",
   "metadata": {},
   "source": [
    "## Distributions"
   ]
  },
  {
   "cell_type": "markdown",
   "metadata": {},
   "source": [
    "## Distribution:Set of all possible random variables\n",
    "### Example:\n",
    "##### Flipping Coins for heads and tails\n",
    "- a binomial distribution(two possible outcomes)\n"
   ]
  },
  {
   "cell_type": "code",
   "execution_count": 2,
   "metadata": {},
   "outputs": [
    {
     "name": "stdout",
     "output_type": "stream",
     "text": [
      "2\n",
      "20\n",
      "2 4 6 8 10 12 14 16 18 20 10\n"
     ]
    },
    {
     "data": {
      "text/plain": [
       "2420.0"
      ]
     },
     "execution_count": 2,
     "metadata": {},
     "output_type": "execute_result"
    }
   ],
   "source": [
    "def avg_even_cube(lw,up):\n",
    "    count=0\n",
    "    s=0 \n",
    "    avg=0\n",
    "    for num in range(lw,up+1):\n",
    "        if num%2==0:\n",
    "            print(num,end=\" \")\n",
    "            s+=num**3\n",
    "            count+=1\n",
    "    avg=s/count\n",
    "    return avg\n",
    "lw=int(input())\n",
    "up=int(input())\n",
    "avg_even_cube(lw,up)"
   ]
  },
  {
   "cell_type": "code",
   "execution_count": 12,
   "metadata": {},
   "outputs": [
    {
     "name": "stdout",
     "output_type": "stream",
     "text": [
      "501\n",
      "3 167 "
     ]
    }
   ],
   "source": [
    "# prime factors of a number\n",
    "\n",
    "def is_prime(n):\n",
    "    count=0\n",
    "    for num in range(1,n+1):\n",
    "        if n%num==0:\n",
    "            count+=1\n",
    "    if count==2:\n",
    "        return True\n",
    "    else: return False\n",
    "    \n",
    "num=int(input())\n",
    "for dig in range(1,num+1):\n",
    "    if num%dig==0:\n",
    "        if is_prime(dig)==True:\n",
    "            print(dig,end=\" \")"
   ]
  },
  {
   "cell_type": "markdown",
   "metadata": {},
   "source": [
    "###  Probability and Statistics"
   ]
  },
  {
   "cell_type": "markdown",
   "metadata": {},
   "source": [
    "**Probability** is the study of random events. Most people have an intuitibe \n",
    "understanding of degrees of probability, which is why you can use words like \" probably\" and \n",
    "\"unlikel\" without special training,\n",
    "will talk about how to make quantitative claims abot those degrees\n",
    "\n",
    "**Statistics** is the discipline of using data samples to support claims about population. Most statistical analysis is based on probability, why these pieces are usually presented "
   ]
  },
  {
   "cell_type": "markdown",
   "metadata": {},
   "source": [
    "### Descriptive and Inferential Statistics"
   ]
  },
  {
   "cell_type": "markdown",
   "metadata": {},
   "source": [
    "**Descriptive Statistics:** is used to describe the important characteristics/properties of the  data using the measures of dispersion like range,standard deviation,variance etc. Data can be summarized and represented in an accurate way using charts, tables and graphs.\n",
    "\n",
    "**Inferential Statistics:** It is about using data from sample ad then making inferences"
   ]
  },
  {
   "cell_type": "code",
   "execution_count": 21,
   "metadata": {},
   "outputs": [
    {
     "name": "stdout",
     "output_type": "stream",
     "text": [
      "8.89\n",
      "2.981610303175115\n"
     ]
    },
    {
     "data": {
      "text/plain": [
       "0.3"
      ]
     },
     "execution_count": 21,
     "metadata": {},
     "output_type": "execute_result"
    }
   ],
   "source": [
    "marks=[10,5,5,1,1,1,7,7,7,7]\n",
    "mean=sum(marks)/len(marks)\n",
    "sum_sigma=0 #(xi-)\n",
    "for m in marks:\n",
    "    sum_sigma+=(m-mean)**2\n",
    "variance=(sum_sigma)/len(marks)\n",
    "print(variance)\n",
    "std_var=variance**(0.5)\n",
    "print(std_var)\n",
    "freq={1:3,5:2,7:4,100:1}\n",
    "p100=freq[100]/len(marks)\n",
    "p1=freq[1]/len(marks)\n",
    "p1"
   ]
  },
  {
   "cell_type": "markdown",
   "metadata": {},
   "source": [
    "### Histogram"
   ]
  },
  {
   "cell_type": "code",
   "execution_count": 29,
   "metadata": {},
   "outputs": [
    {
     "name": "stdout",
     "output_type": "stream",
     "text": [
      "[1, 1, 1, 5, 5, 7, 7, 7, 7, 10]\n",
      "7\n"
     ]
    }
   ],
   "source": [
    "# Median\n",
    "#marks.sort()\n",
    "sorted_marks=sorted(marks)\n",
    "print(sorted_marks)\n",
    "median=sorted_marks[len(sorted_marks)//2]\n",
    "print(median)"
   ]
  },
  {
   "cell_type": "code",
   "execution_count": 30,
   "metadata": {},
   "outputs": [
    {
     "data": {
      "text/plain": [
       "5.1"
      ]
     },
     "execution_count": 30,
     "metadata": {},
     "output_type": "execute_result"
    }
   ],
   "source": [
    "mean"
   ]
  },
  {
   "cell_type": "code",
   "execution_count": 34,
   "metadata": {},
   "outputs": [
    {
     "data": {
      "text/plain": [
       "7"
      ]
     },
     "execution_count": 34,
     "metadata": {},
     "output_type": "execute_result"
    }
   ],
   "source": [
    "# mode->max freq\n",
    "for m in freq.keys():\n",
    "    if freq[m]==max(freq.values()):\n",
    "        mode=m\n",
    "mode"
   ]
  },
  {
   "cell_type": "code",
   "execution_count": 35,
   "metadata": {},
   "outputs": [
    {
     "data": {
      "text/plain": [
       "3"
      ]
     },
     "execution_count": 35,
     "metadata": {},
     "output_type": "execute_result"
    }
   ],
   "source": [
    "# range-> diff(highest-lowest)\n",
    "range=max(freq.values())-min(freq.values())\n",
    "range"
   ]
  },
  {
   "cell_type": "code",
   "execution_count": 36,
   "metadata": {},
   "outputs": [],
   "source": [
    "# Outliers: Values far from the mode are called outliers\n"
   ]
  },
  {
   "cell_type": "code",
   "execution_count": 37,
   "metadata": {},
   "outputs": [],
   "source": [
    "import numpy as np\n",
    "import pandas as pd"
   ]
  },
  {
   "cell_type": "code",
   "execution_count": 38,
   "metadata": {},
   "outputs": [
    {
     "data": {
      "text/plain": [
       "4"
      ]
     },
     "execution_count": 38,
     "metadata": {},
     "output_type": "execute_result"
    }
   ],
   "source": [
    "np.random.binomial(5,0.9)"
   ]
  },
  {
   "cell_type": "code",
   "execution_count": 39,
   "metadata": {},
   "outputs": [
    {
     "data": {
      "text/plain": [
       "0.499"
      ]
     },
     "execution_count": 39,
     "metadata": {},
     "output_type": "execute_result"
    }
   ],
   "source": [
    "np.random.binomial(1000,0.5)/1000"
   ]
  },
  {
   "cell_type": "code",
   "execution_count": 40,
   "metadata": {},
   "outputs": [
    {
     "data": {
      "text/plain": [
       "0"
      ]
     },
     "execution_count": 40,
     "metadata": {},
     "output_type": "execute_result"
    }
   ],
   "source": [
    "chance_of_tornado=0.01/100\n",
    "np.random.binomial(10000,chance_of_tornado)"
   ]
  },
  {
   "cell_type": "code",
   "execution_count": null,
   "metadata": {},
   "outputs": [],
   "source": []
  }
 ],
 "metadata": {
  "kernelspec": {
   "display_name": "Python 3",
   "language": "python",
   "name": "python3"
  },
  "language_info": {
   "codemirror_mode": {
    "name": "ipython",
    "version": 3
   },
   "file_extension": ".py",
   "mimetype": "text/x-python",
   "name": "python",
   "nbconvert_exporter": "python",
   "pygments_lexer": "ipython3",
   "version": "3.7.4"
  }
 },
 "nbformat": 4,
 "nbformat_minor": 2
}
