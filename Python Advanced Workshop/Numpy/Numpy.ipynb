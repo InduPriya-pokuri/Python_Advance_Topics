{
 "cells": [
  {
   "cell_type": "markdown",
   "metadata": {},
   "source": [
    "### Numpy\n",
    "- General pupose Array processing package\n",
    "- Provides high performance multidimensional object and tools for these arrays\n",
    "- Fundamental package for scientic computation in Python\n",
    "    - Various Features:\n",
    "        - A powerful N-dimensional array object\n",
    "        - Sophisticated functions\n",
    "        - Tools for integrating C/C++ and Fortran code\n",
    "        - linear algebra, Fourier Transform and random number capabilites\n",
    "    - Besides this scientic calculation--> Works as an N-dimensional array container of generic data\n",
    "        "
   ]
  },
  {
   "cell_type": "markdown",
   "metadata": {},
   "source": [
    "#### Installation process:\n",
    "- pip install numpy\n",
    "- import numpy\n"
   ]
  },
  {
   "cell_type": "markdown",
   "metadata": {},
   "source": [
    "#### Working with Numpy"
   ]
  },
  {
   "cell_type": "markdown",
   "metadata": {},
   "source": [
    "##### Array:\n",
    "- Colletion of similar items/ collection of elements of the same data type\n",
    "- index->tuple of +ve integers"
   ]
  },
  {
   "cell_type": "markdown",
   "metadata": {},
   "source": [
    "#### Array Creation"
   ]
  },
  {
   "cell_type": "code",
   "execution_count": 2,
   "metadata": {},
   "outputs": [
    {
     "name": "stdout",
     "output_type": "stream",
     "text": [
      "[12 34 45]\n"
     ]
    }
   ],
   "source": [
    "import numpy as np\n",
    "ar=np.array((12,34,45))\n",
    "print(ar)"
   ]
  },
  {
   "cell_type": "code",
   "execution_count": 6,
   "metadata": {},
   "outputs": [
    {
     "name": "stdout",
     "output_type": "stream",
     "text": [
      "[[1 2 3]\n",
      " [4 5 6]\n",
      " [7 8 9]\n",
      " [4 9 3]]\n",
      "int32\n",
      "[[1 2 3]\n",
      " [4 5 6]\n",
      " [7 8 9]\n",
      " [4 9 3]]\n",
      "int32\n",
      "[[1 2 3]\n",
      " [4 5 6]\n",
      " [7 8 9]\n",
      " [4 9 3]]\n",
      "int32\n"
     ]
    }
   ],
   "source": [
    "import numpy as np\n",
    "ar2=np.array([(1,2,3),(4,5,6),(7,8,9),(4,9,3)])\n",
    "print(ar2)\n",
    "print(ar2.dtype)"
   ]
  },
  {
   "cell_type": "code",
   "execution_count": 2,
   "metadata": {},
   "outputs": [
    {
     "name": "stdout",
     "output_type": "stream",
     "text": [
      "[[1 2 3]\n",
      " [5 6 7]\n",
      " [8 9 3]]\n"
     ]
    }
   ],
   "source": [
    "import numpy as np\n",
    "ar3=np.array([[1,2,3],[5,6,7],[8,9,3]])\n",
    "print(ar3)"
   ]
  },
  {
   "cell_type": "code",
   "execution_count": 6,
   "metadata": {},
   "outputs": [
    {
     "name": "stdout",
     "output_type": "stream",
     "text": [
      "[[0. 0. 0. 0.]\n",
      " [0. 0. 0. 0.]\n",
      " [0. 0. 0. 0.]]\n"
     ]
    }
   ],
   "source": [
    "z=np.zeros((3,4))   # fills with 0s\n",
    "print(z)"
   ]
  },
  {
   "cell_type": "code",
   "execution_count": 8,
   "metadata": {},
   "outputs": [
    {
     "name": "stdout",
     "output_type": "stream",
     "text": [
      "[[1. 1. 1.]\n",
      " [1. 1. 1.]]\n",
      "[[1. 1. 1.]\n",
      " [1. 1. 1.]]\n",
      "[[1. 1. 1.]\n",
      " [1. 1. 1.]]\n"
     ]
    }
   ],
   "source": [
    "o=np.ones((2,3))    # fills the entire matrix with 1s\n",
    "print(o)"
   ]
  },
  {
   "cell_type": "code",
   "execution_count": 9,
   "metadata": {},
   "outputs": [
    {
     "name": "stdout",
     "output_type": "stream",
     "text": [
      "[[8 8 8]\n",
      " [8 8 8]]\n",
      "int32\n",
      "[[8 8 8]\n",
      " [8 8 8]]\n",
      "int32\n",
      "[[8 8 8]\n",
      " [8 8 8]]\n",
      "int32\n"
     ]
    }
   ],
   "source": [
    "f=np.full((2,3),8)    ## Fills the array with 3rd arguement\n",
    "print(f)\n",
    "print(f.dtype)"
   ]
  },
  {
   "cell_type": "code",
   "execution_count": 10,
   "metadata": {},
   "outputs": [
    {
     "name": "stdout",
     "output_type": "stream",
     "text": [
      "[[0.91360017 0.85290984 0.07346963 0.15828493]\n",
      " [0.32243369 0.9022243  0.52916008 0.08634637]]\n",
      "[[0.91360017 0.85290984 0.07346963 0.15828493]\n",
      " [0.32243369 0.9022243  0.52916008 0.08634637]]\n",
      "[[0.91360017 0.85290984 0.07346963 0.15828493]\n",
      " [0.32243369 0.9022243  0.52916008 0.08634637]]\n"
     ]
    }
   ],
   "source": [
    "r=np.random.rand(2,4)  # Generates random no.s of 2 rows and 4 columns\n",
    "print(r)"
   ]
  },
  {
   "cell_type": "code",
   "execution_count": 11,
   "metadata": {},
   "outputs": [
    {
     "name": "stdout",
     "output_type": "stream",
     "text": [
      "3\n",
      "3\n",
      "3\n"
     ]
    }
   ],
   "source": [
    "r2=np.random.randint(2,10) # Gives random int in a range\n",
    "print(r2)"
   ]
  },
  {
   "cell_type": "code",
   "execution_count": 12,
   "metadata": {},
   "outputs": [
    {
     "name": "stdout",
     "output_type": "stream",
     "text": [
      "[ 1  5  9 13 17 21 25 29]\n",
      "[ 1  5  9 13 17 21 25 29]\n",
      "[ 1  5  9 13 17 21 25 29]\n"
     ]
    }
   ],
   "source": [
    "r3=np.arange(1,30,4)   # arrange the no.s in a list with a diff of step count\n",
    "print(r3)"
   ]
  },
  {
   "cell_type": "code",
   "execution_count": 17,
   "metadata": {},
   "outputs": [
    {
     "name": "stdout",
     "output_type": "stream",
     "text": [
      "[1.         1.57142857 2.14285714 2.71428571 3.28571429 3.85714286\n",
      " 4.42857143 5.        ]\n",
      "[1.         1.57142857 2.14285714 2.71428571 3.28571429 3.85714286\n",
      " 4.42857143 5.        ]\n",
      "[1.         1.57142857 2.14285714 2.71428571 3.28571429 3.85714286\n",
      " 4.42857143 5.        ]\n"
     ]
    }
   ],
   "source": [
    "l=np.linspace(1,5,8) # Creates a sequence of 8 values in a range 1 to 5 \n",
    "print(l)"
   ]
  },
  {
   "cell_type": "code",
   "execution_count": 45,
   "metadata": {},
   "outputs": [
    {
     "name": "stdout",
     "output_type": "stream",
     "text": [
      "[[1 2 3 4]\n",
      " [5 2 4 2]\n",
      " [1 2 0 1]]\n"
     ]
    }
   ],
   "source": [
    "arr = np.array([[1, 2, 3, 4], [5, 2, 4, 2], [1, 2, 0, 1]])\n",
    "print(arr)"
   ]
  },
  {
   "cell_type": "code",
   "execution_count": 47,
   "metadata": {},
   "outputs": [
    {
     "name": "stdout",
     "output_type": "stream",
     "text": [
      "[[[1 2]\n",
      "  [3 4]\n",
      "  [5 2]]\n",
      "\n",
      " [[4 2]\n",
      "  [1 2]\n",
      "  [0 1]]]\n"
     ]
    }
   ],
   "source": [
    "re=arr.reshape(2,3,2)\n",
    "print(re)"
   ]
  },
  {
   "cell_type": "code",
   "execution_count": 18,
   "metadata": {},
   "outputs": [
    {
     "name": "stdout",
     "output_type": "stream",
     "text": [
      "[ 1  2  3  5  6  7 77 54 76]\n",
      "[ 1  2  3  5  6  7 77 54 76]\n",
      "[ 1  2  3  5  6  7 77 54 76]\n"
     ]
    }
   ],
   "source": [
    "fl=np.array([[1,2,3],[5,6,7],[77,54,76]])\n",
    "print(fl.flatten())"
   ]
  },
  {
   "cell_type": "markdown",
   "metadata": {},
   "source": [
    "#### Array Slicing\n",
    "- Syntax:\n",
    "- [f,l]\n",
    "- ar[r:c]"
   ]
  },
  {
   "cell_type": "code",
   "execution_count": 52,
   "metadata": {},
   "outputs": [
    {
     "name": "stdout",
     "output_type": "stream",
     "text": [
      "[[-1.   2.   0.   4. ]\n",
      " [ 4.  -0.5  6.   0. ]\n",
      " [ 2.6  0.   7.   8. ]\n",
      " [ 3.  -7.   4.   2. ]]\n"
     ]
    }
   ],
   "source": [
    "sl = np.array([[-1, 2, 0, 4], [4, -0.5, 6, 0], [2, 0, 7, 8],[3, -7, 4, 2.0]])\n",
    "print(sl)"
   ]
  },
  {
   "cell_type": "code",
   "execution_count": 19,
   "metadata": {},
   "outputs": [
    {
     "ename": "NameError",
     "evalue": "name 'sl' is not defined",
     "output_type": "error",
     "traceback": [
      "\u001b[1;31m---------------------------------------------------------------------------\u001b[0m",
      "\u001b[1;31mNameError\u001b[0m                                 Traceback (most recent call last)",
      "\u001b[1;32m<ipython-input-19-9bddc549207d>\u001b[0m in \u001b[0;36m<module>\u001b[1;34m\u001b[0m\n\u001b[1;32m----> 1\u001b[1;33m \u001b[0mprint\u001b[0m\u001b[1;33m(\u001b[0m\u001b[0msl\u001b[0m\u001b[1;33m[\u001b[0m\u001b[1;36m2\u001b[0m\u001b[1;33m:\u001b[0m\u001b[1;33m]\u001b[0m\u001b[1;33m)\u001b[0m\u001b[1;33m\u001b[0m\u001b[1;33m\u001b[0m\u001b[0m\n\u001b[0m",
      "\u001b[1;31mNameError\u001b[0m: name 'sl' is not defined"
     ]
    },
    {
     "ename": "NameError",
     "evalue": "name 'sl' is not defined",
     "output_type": "error",
     "traceback": [
      "\u001b[1;31m---------------------------------------------------------------------------\u001b[0m",
      "\u001b[1;31mNameError\u001b[0m                                 Traceback (most recent call last)",
      "\u001b[1;32m<ipython-input-19-9bddc549207d>\u001b[0m in \u001b[0;36m<module>\u001b[1;34m\u001b[0m\n\u001b[1;32m----> 1\u001b[1;33m \u001b[0mprint\u001b[0m\u001b[1;33m(\u001b[0m\u001b[0msl\u001b[0m\u001b[1;33m[\u001b[0m\u001b[1;36m2\u001b[0m\u001b[1;33m:\u001b[0m\u001b[1;33m]\u001b[0m\u001b[1;33m)\u001b[0m\u001b[1;33m\u001b[0m\u001b[1;33m\u001b[0m\u001b[0m\n\u001b[0m",
      "\u001b[1;31mNameError\u001b[0m: name 'sl' is not defined"
     ]
    },
    {
     "ename": "NameError",
     "evalue": "name 'sl' is not defined",
     "output_type": "error",
     "traceback": [
      "\u001b[1;31m---------------------------------------------------------------------------\u001b[0m",
      "\u001b[1;31mNameError\u001b[0m                                 Traceback (most recent call last)",
      "\u001b[1;32m<ipython-input-19-9bddc549207d>\u001b[0m in \u001b[0;36m<module>\u001b[1;34m\u001b[0m\n\u001b[1;32m----> 1\u001b[1;33m \u001b[0mprint\u001b[0m\u001b[1;33m(\u001b[0m\u001b[0msl\u001b[0m\u001b[1;33m[\u001b[0m\u001b[1;36m2\u001b[0m\u001b[1;33m:\u001b[0m\u001b[1;33m]\u001b[0m\u001b[1;33m)\u001b[0m\u001b[1;33m\u001b[0m\u001b[1;33m\u001b[0m\u001b[0m\n\u001b[0m",
      "\u001b[1;31mNameError\u001b[0m: name 'sl' is not defined"
     ]
    }
   ],
   "source": [
    "##print(sl[2:])"
   ]
  },
  {
   "cell_type": "code",
   "execution_count": 56,
   "metadata": {},
   "outputs": [
    {
     "name": "stdout",
     "output_type": "stream",
     "text": [
      "[[-1.   2.   0.   4. ]\n",
      " [ 4.  -0.5  6.   0. ]\n",
      " [ 2.6  0.   7.   8. ]\n",
      " [ 3.  -7.   4.   2. ]]\n"
     ]
    }
   ],
   "source": [
    "print(sl[::])"
   ]
  },
  {
   "cell_type": "code",
   "execution_count": 54,
   "metadata": {},
   "outputs": [
    {
     "name": "stdout",
     "output_type": "stream",
     "text": [
      "[[ 3.  -7.   4.   2. ]\n",
      " [ 2.6  0.   7.   8. ]\n",
      " [ 4.  -0.5  6.   0. ]\n",
      " [-1.   2.   0.   4. ]]\n"
     ]
    }
   ],
   "source": [
    "print(sl[::-1])"
   ]
  },
  {
   "cell_type": "code",
   "execution_count": 57,
   "metadata": {},
   "outputs": [
    {
     "name": "stdout",
     "output_type": "stream",
     "text": [
      "[[ 2.   0.   4. ]\n",
      " [-0.5  6.   0. ]]\n"
     ]
    }
   ],
   "source": [
    "print(sl[:2,1::])   ## Giving first 2 rows with columns from 1st index"
   ]
  },
  {
   "cell_type": "code",
   "execution_count": 59,
   "metadata": {},
   "outputs": [
    {
     "name": "stdout",
     "output_type": "stream",
     "text": [
      "[[-1.   2. ]\n",
      " [ 4.  -0.5]\n",
      " [ 2.6  0. ]\n",
      " [ 3.  -7. ]]\n"
     ]
    }
   ],
   "source": [
    "print(sl[::,:2])  # all rows ending with 2nd index"
   ]
  },
  {
   "cell_type": "code",
   "execution_count": 8,
   "metadata": {},
   "outputs": [
    {
     "name": "stdout",
     "output_type": "stream",
     "text": [
      "[4.  4.  6.  2.6 7.  8.  3.  4. ]\n"
     ]
    }
   ],
   "source": [
    "cond = sl > 2# cond is a boolean array \n",
    "temp = sl[cond] \n",
    "print(temp)"
   ]
  },
  {
   "cell_type": "markdown",
   "metadata": {},
   "source": [
    "####  Basic Operations"
   ]
  },
  {
   "cell_type": "code",
   "execution_count": 65,
   "metadata": {},
   "outputs": [
    {
     "name": "stdout",
     "output_type": "stream",
     "text": [
      "[[ 8.  11.   9.  13. ]\n",
      " [13.   8.5 15.   9. ]\n",
      " [11.6  9.  16.  17. ]\n",
      " [12.   2.  13.  11. ]]\n"
     ]
    }
   ],
   "source": [
    "print(sl+9)## adding 9 to every element in the array"
   ]
  },
  {
   "cell_type": "code",
   "execution_count": 21,
   "metadata": {},
   "outputs": [
    {
     "name": "stdout",
     "output_type": "stream",
     "text": [
      "[[-1.   2.   0.   4. ]\n",
      " [ 4.  -0.5  6.   0. ]\n",
      " [ 2.   0.   7.   8. ]\n",
      " [ 3.  -7.   4.   2. ]]\n",
      "[[-3.   0.  -2.   2. ]\n",
      " [ 2.  -2.5  4.  -2. ]\n",
      " [ 0.  -2.   5.   6. ]\n",
      " [ 1.  -9.   2.   0. ]]\n",
      "[[-1.   2.   0.   4. ]\n",
      " [ 4.  -0.5  6.   0. ]\n",
      " [ 2.   0.   7.   8. ]\n",
      " [ 3.  -7.   4.   2. ]]\n",
      "[[-3.   0.  -2.   2. ]\n",
      " [ 2.  -2.5  4.  -2. ]\n",
      " [ 0.  -2.   5.   6. ]\n",
      " [ 1.  -9.   2.   0. ]]\n",
      "[[-1.   2.   0.   4. ]\n",
      " [ 4.  -0.5  6.   0. ]\n",
      " [ 2.   0.   7.   8. ]\n",
      " [ 3.  -7.   4.   2. ]]\n",
      "[[-3.   0.  -2.   2. ]\n",
      " [ 2.  -2.5  4.  -2. ]\n",
      " [ 0.  -2.   5.   6. ]\n",
      " [ 1.  -9.   2.   0. ]]\n"
     ]
    }
   ],
   "source": [
    "import numpy as np\n",
    "sl = np.array([[-1, 2, 0, 4], [4, -0.5, 6, 0], [2, 0, 7, 8],[3, -7, 4, 2.0]])\n",
    "print(sl)\n",
    "print(sl-2)"
   ]
  },
  {
   "cell_type": "code",
   "execution_count": 68,
   "metadata": {},
   "outputs": [
    {
     "name": "stdout",
     "output_type": "stream",
     "text": [
      "[[ -3.    6.    0.   12. ]\n",
      " [ 12.   -1.5  18.    0. ]\n",
      " [  7.8   0.   21.   24. ]\n",
      " [  9.  -21.   12.    6. ]]\n"
     ]
    }
   ],
   "source": [
    "print(sl*3)"
   ]
  },
  {
   "cell_type": "code",
   "execution_count": 69,
   "metadata": {},
   "outputs": [
    {
     "name": "stdout",
     "output_type": "stream",
     "text": [
      "[[ 1.    4.    0.   16.  ]\n",
      " [16.    0.25 36.    0.  ]\n",
      " [ 6.76  0.   49.   64.  ]\n",
      " [ 9.   49.   16.    4.  ]]\n"
     ]
    }
   ],
   "source": [
    "print(sl*sl)"
   ]
  },
  {
   "cell_type": "code",
   "execution_count": 70,
   "metadata": {},
   "outputs": [
    {
     "name": "stdout",
     "output_type": "stream",
     "text": [
      "[[-1.   4.   2.6  3. ]\n",
      " [ 2.  -0.5  0.  -7. ]\n",
      " [ 0.   6.   7.   4. ]\n",
      " [ 4.   0.   8.   2. ]]\n"
     ]
    }
   ],
   "source": [
    "print(sl.T)"
   ]
  },
  {
   "cell_type": "code",
   "execution_count": 71,
   "metadata": {},
   "outputs": [
    {
     "name": "stdout",
     "output_type": "stream",
     "text": [
      "8.0\n"
     ]
    }
   ],
   "source": [
    "print(sl.max())"
   ]
  },
  {
   "cell_type": "code",
   "execution_count": 72,
   "metadata": {},
   "outputs": [
    {
     "name": "stdout",
     "output_type": "stream",
     "text": [
      "-7.0\n"
     ]
    }
   ],
   "source": [
    "print(sl.min())"
   ]
  },
  {
   "cell_type": "code",
   "execution_count": 22,
   "metadata": {},
   "outputs": [
    {
     "name": "stdout",
     "output_type": "stream",
     "text": [
      "33.5\n",
      "33.5\n",
      "33.5\n"
     ]
    }
   ],
   "source": [
    "print(sl.sum())"
   ]
  },
  {
   "cell_type": "code",
   "execution_count": 23,
   "metadata": {},
   "outputs": [
    {
     "name": "stdout",
     "output_type": "stream",
     "text": [
      "[ 8.  -5.5 17.  14. ]\n",
      "[ 8.  -5.5 17.  14. ]\n",
      "[ 8.  -5.5 17.  14. ]\n"
     ]
    }
   ],
   "source": [
    "print(sum(sl))"
   ]
  },
  {
   "cell_type": "code",
   "execution_count": 74,
   "metadata": {},
   "outputs": [
    {
     "name": "stdout",
     "output_type": "stream",
     "text": [
      "34.1\n"
     ]
    }
   ],
   "source": [
    "print(np.sum(sl))"
   ]
  },
  {
   "cell_type": "code",
   "execution_count": 79,
   "metadata": {},
   "outputs": [
    {
     "name": "stdout",
     "output_type": "stream",
     "text": [
      "[[-3.   0.  -2.   2. ]\n",
      " [ 2.  -2.5  4.  -2. ]\n",
      " [ 0.6 -2.   5.   6. ]\n",
      " [ 1.  -9.   2.   0. ]]\n"
     ]
    }
   ],
   "source": [
    "print(sl+r2)"
   ]
  },
  {
   "cell_type": "code",
   "execution_count": null,
   "metadata": {},
   "outputs": [],
   "source": [
    "2*2 3*2"
   ]
  },
  {
   "cell_type": "code",
   "execution_count": null,
   "metadata": {},
   "outputs": [],
   "source": []
  },
  {
   "cell_type": "code",
   "execution_count": 82,
   "metadata": {},
   "outputs": [
    {
     "name": "stdout",
     "output_type": "stream",
     "text": [
      "[[ -2.    4.    0.    8. ]\n",
      " [  8.   -1.   12.    0. ]\n",
      " [  5.2   0.   14.   16. ]\n",
      " [  6.  -14.    8.    4. ]]\n"
     ]
    }
   ],
   "source": [
    "print(sl.dot(r2))   # product of 2 arrays"
   ]
  },
  {
   "cell_type": "code",
   "execution_count": 87,
   "metadata": {},
   "outputs": [
    {
     "name": "stdout",
     "output_type": "stream",
     "text": [
      "[[-0.84147098  0.90929743  0.         -0.7568025 ]\n",
      " [-0.7568025  -0.47942554 -0.2794155   0.        ]\n",
      " [ 0.51550137  0.          0.6569866   0.98935825]\n",
      " [ 0.14112001 -0.6569866  -0.7568025   0.90929743]]\n"
     ]
    }
   ],
   "source": [
    "print(np.sin(sl))"
   ]
  },
  {
   "cell_type": "code",
   "execution_count": 88,
   "metadata": {},
   "outputs": [
    {
     "name": "stdout",
     "output_type": "stream",
     "text": [
      "Exponent of array elements: [[3.67879441e-01 7.38905610e+00 1.00000000e+00 5.45981500e+01]\n",
      " [5.45981500e+01 6.06530660e-01 4.03428793e+02 1.00000000e+00]\n",
      " [1.34637380e+01 1.00000000e+00 1.09663316e+03 2.98095799e+03]\n",
      " [2.00855369e+01 9.11881966e-04 5.45981500e+01 7.38905610e+00]]\n"
     ]
    }
   ],
   "source": [
    "e = np.array([0, 1, 2, 3]) \n",
    "print (\"Exponent of array elements:\", np.exp(sl)) "
   ]
  },
  {
   "cell_type": "code",
   "execution_count": 90,
   "metadata": {},
   "outputs": [
    {
     "name": "stdout",
     "output_type": "stream",
     "text": [
      "[[       nan 1.41421356 0.         2.        ]\n",
      " [2.                nan 2.44948974 0.        ]\n",
      " [1.61245155 0.         2.64575131 2.82842712]\n",
      " [1.73205081        nan 2.         1.41421356]]\n"
     ]
    },
    {
     "name": "stderr",
     "output_type": "stream",
     "text": [
      "C:\\ProgramData\\Anaconda3\\lib\\site-packages\\ipykernel_launcher.py:1: RuntimeWarning: invalid value encountered in sqrt\n",
      "  \"\"\"Entry point for launching an IPython kernel.\n"
     ]
    }
   ],
   "source": [
    "print(np.sqrt(sl))"
   ]
  },
  {
   "cell_type": "code",
   "execution_count": 92,
   "metadata": {},
   "outputs": [
    {
     "name": "stdout",
     "output_type": "stream",
     "text": [
      "[[ 1  2  4]\n",
      " [ 3  4  6]\n",
      " [-1  0  5]]\n"
     ]
    }
   ],
   "source": [
    "st = np.array([[1, 4, 2],[3, 4, 6],[0, -1, 5]]) \n",
    "print(np.sort(st))"
   ]
  },
  {
   "cell_type": "code",
   "execution_count": 24,
   "metadata": {},
   "outputs": [
    {
     "name": "stdout",
     "output_type": "stream",
     "text": [
      "[('name', <class 'str'>), (454565, <class 'int'>), (6567.78, <class 'float'>)]\n",
      "[('name', <class 'str'>), (454565, <class 'int'>), (6567.78, <class 'float'>)]\n",
      "[('name', <class 'str'>), (454565, <class 'int'>), (6567.78, <class 'float'>)]\n"
     ]
    }
   ],
   "source": [
    "dtypes = [('name', str), (454565, int), (6567.78, float)] \n",
    "print(dtypes)"
   ]
  },
  {
   "cell_type": "code",
   "execution_count": 100,
   "metadata": {},
   "outputs": [
    {
     "ename": "ValueError",
     "evalue": "operands could not be broadcast together with shapes (3,4) (8,) ",
     "output_type": "error",
     "traceback": [
      "\u001b[1;31m---------------------------------------------------------------------------\u001b[0m",
      "\u001b[1;31mValueError\u001b[0m                                Traceback (most recent call last)",
      "\u001b[1;32m<ipython-input-100-0f76784977e2>\u001b[0m in \u001b[0;36m<module>\u001b[1;34m\u001b[0m\n\u001b[1;32m----> 1\u001b[1;33m \u001b[0mprint\u001b[0m\u001b[1;33m(\u001b[0m\u001b[0mnp\u001b[0m\u001b[1;33m.\u001b[0m\u001b[0madd\u001b[0m\u001b[1;33m(\u001b[0m\u001b[0marr\u001b[0m\u001b[1;33m,\u001b[0m\u001b[0mr3\u001b[0m\u001b[1;33m)\u001b[0m\u001b[1;33m)\u001b[0m\u001b[1;33m\u001b[0m\u001b[1;33m\u001b[0m\u001b[0m\n\u001b[0m",
      "\u001b[1;31mValueError\u001b[0m: operands could not be broadcast together with shapes (3,4) (8,) "
     ]
    }
   ],
   "source": [
    "print(np.add(arr,r3))"
   ]
  },
  {
   "cell_type": "code",
   "execution_count": 5,
   "metadata": {},
   "outputs": [
    {
     "name": "stdout",
     "output_type": "stream",
     "text": [
      "[[-1.   2.   0.   4. ]\n",
      " [ 4.  -0.5  6.   0. ]\n",
      " [ 2.6  0.   7.   8. ]\n",
      " [ 3.  -7.   4.   2. ]]\n"
     ]
    }
   ],
   "source": [
    "import numpy as np\n",
    "sl = np.array([[-1, 2, 0, 4], [4, -0.5, 6, 0], [2.6, 0, 7, 8],[3, -7, 4, 2.0]])\n",
    "print(sl)"
   ]
  },
  {
   "cell_type": "code",
   "execution_count": 6,
   "metadata": {},
   "outputs": [
    {
     "name": "stdout",
     "output_type": "stream",
     "text": [
      "2.13125\n"
     ]
    }
   ],
   "source": [
    "print(np.mean(sl))"
   ]
  },
  {
   "cell_type": "code",
   "execution_count": 7,
   "metadata": {},
   "outputs": [
    {
     "name": "stdout",
     "output_type": "stream",
     "text": [
      "3.520780941424786\n"
     ]
    }
   ],
   "source": [
    "print(np.std(sl))"
   ]
  },
  {
   "cell_type": "code",
   "execution_count": null,
   "metadata": {},
   "outputs": [],
   "source": [
    "import numpy as np\n",
    "ar=np.array([1,2,3,4])\n",
    "print(ar)"
   ]
  },
  {
   "cell_type": "code",
   "execution_count": 4,
   "metadata": {},
   "outputs": [
    {
     "data": {
      "text/plain": [
       "[1, 2, 3, 4]"
      ]
     },
     "execution_count": 4,
     "metadata": {},
     "output_type": "execute_result"
    },
    {
     "data": {
      "text/plain": [
       "[1, 2, 3, 4]"
      ]
     },
     "execution_count": 4,
     "metadata": {},
     "output_type": "execute_result"
    },
    {
     "data": {
      "text/plain": [
       "[1, 2, 3, 4]"
      ]
     },
     "execution_count": 4,
     "metadata": {},
     "output_type": "execute_result"
    }
   ],
   "source": [
    "li=[1,2,3,4]\n",
    "li"
   ]
  },
  {
   "cell_type": "code",
   "execution_count": 7,
   "metadata": {},
   "outputs": [
    {
     "name": "stdout",
     "output_type": "stream",
     "text": [
      "[[1 2 3 4]\n",
      " [5 6 7 8]\n",
      " [9 0 4 3]\n",
      " [8 5 3 1]]\n",
      "[[1 2 3 4]\n",
      " [5 6 7 8]\n",
      " [9 0 4 3]\n",
      " [8 5 3 1]]\n",
      "[[1 2 3 4]\n",
      " [5 6 7 8]\n",
      " [9 0 4 3]\n",
      " [8 5 3 1]]\n"
     ]
    }
   ],
   "source": [
    "arr=np.array([[1,2,3,4],[5,6,7,8],[9,0,4,3],[8,5,3,1]])\n",
    "print(arr)"
   ]
  },
  {
   "cell_type": "code",
   "execution_count": null,
   "metadata": {},
   "outputs": [],
   "source": []
  }
 ],
 "metadata": {
  "kernelspec": {
   "display_name": "Python 3",
   "language": "python",
   "name": "python3"
  },
  "language_info": {
   "codemirror_mode": {
    "name": "ipython",
    "version": 3
   },
   "file_extension": ".py",
   "mimetype": "text/x-python",
   "name": "python",
   "nbconvert_exporter": "python",
   "pygments_lexer": "ipython3",
   "version": "3.7.3"
  }
 },
 "nbformat": 4,
 "nbformat_minor": 2
}
