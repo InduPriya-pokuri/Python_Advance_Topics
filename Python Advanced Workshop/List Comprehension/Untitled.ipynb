{
 "cells": [
  {
   "cell_type": "markdown",
   "metadata": {},
   "source": [
    "###  List Comprehension\n",
    "- It as an elegant way to define and create lists in python\n",
    "- We can create them in a single line like mathematical statement\n",
    "- Syntax:\n",
    "    - list[o/p var i/p seq and optional predicate part]\n"
   ]
  },
  {
   "cell_type": "code",
   "execution_count": 2,
   "metadata": {},
   "outputs": [
    {
     "name": "stdout",
     "output_type": "stream",
     "text": [
      "ruthu 133 98.65 jhfjhd\n",
      "['ruthu', '133', '98.65', 'jhfjhd']\n",
      "<class 'list'>\n"
     ]
    }
   ],
   "source": [
    "st=input().split()\n",
    "li=[]\n",
    "for ch in st:\n",
    "    li.append(ch)\n",
    "print(li)\n",
    "print(type(li))"
   ]
  },
  {
   "cell_type": "code",
   "execution_count": 6,
   "metadata": {},
   "outputs": [
    {
     "name": "stdout",
     "output_type": "stream",
     "text": [
      "458 ruthu 984.457\n",
      "['458', 'ruthu', '984.457']\n"
     ]
    }
   ],
   "source": [
    "li=[ch for ch in input().split()]\n",
    "print(li)"
   ]
  },
  {
   "cell_type": "code",
   "execution_count": 7,
   "metadata": {},
   "outputs": [
    {
     "name": "stdout",
     "output_type": "stream",
     "text": [
      "6364 8347\n",
      "['6364', '8347']\n"
     ]
    }
   ],
   "source": [
    "i=input().split()\n",
    "print(i)\n"
   ]
  },
  {
   "cell_type": "code",
   "execution_count": 11,
   "metadata": {},
   "outputs": [
    {
     "name": "stdout",
     "output_type": "stream",
     "text": [
      "6\n",
      "yes\n"
     ]
    }
   ],
   "source": [
    "n=int(input())\n",
    "count=0\n",
    "for i in range(1,n):\n",
    "    if n%i==0:\n",
    "         count+=i\n",
    "if count==n:\n",
    "    print(\"yes\")\n",
    "else:\n",
    "    print(\"no\")"
   ]
  },
  {
   "cell_type": "code",
   "execution_count": null,
   "metadata": {},
   "outputs": [],
   "source": []
  }
 ],
 "metadata": {
  "kernelspec": {
   "display_name": "Python 3",
   "language": "python",
   "name": "python3"
  },
  "language_info": {
   "codemirror_mode": {
    "name": "ipython",
    "version": 3
   },
   "file_extension": ".py",
   "mimetype": "text/x-python",
   "name": "python",
   "nbconvert_exporter": "python",
   "pygments_lexer": "ipython3",
   "version": "3.7.3"
  }
 },
 "nbformat": 4,
 "nbformat_minor": 2
}
