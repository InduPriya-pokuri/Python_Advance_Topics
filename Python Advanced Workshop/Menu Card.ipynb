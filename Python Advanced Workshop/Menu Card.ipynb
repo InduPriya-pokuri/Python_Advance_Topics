{
 "cells": [
  {
   "cell_type": "markdown",
   "metadata": {},
   "source": [
    "####  Write a program to print Menu card"
   ]
  },
  {
   "cell_type": "code",
   "execution_count": null,
   "metadata": {},
   "outputs": [
    {
     "name": "stdout",
     "output_type": "stream",
     "text": [
      "Items Available...\n",
      "\n",
      "Idly Rs. 25 /-\n",
      "Roti Rs. 30 /-\n",
      "Dosa Rs. 30 /-\n",
      "Gaare Rs. 25 /-\n",
      "Chapathi Rs. 25 /-\n",
      "Plate Meals Rs. 50 /-\n",
      "Full Meals Rs. 70 /-\n",
      "Pulihora Rs. 30 /-\n",
      "Noodles Rs. 40 /-\n",
      "Fried Rice Rs. 40 /-\n",
      "Any Cool Drink Rs. 30 /-\n",
      "Tea Rs. 10 /-\n",
      "Coffee Rs. 15 /-\n"
     ]
    }
   ],
   "source": [
    "menu={'Idly':25,'Roti':30,'Dosa':30,'Gaare':25,'Chapathi':25,'Plate Meals':50,'Full Meals':70,\n",
    "      'Pulihora':30,'Noodles':40,'Fried Rice':40,'Any Cool Drink':30,'Tea':10,'Coffee':15}\n",
    "print(\"Items Available...\\n\")\n",
    "for items,prices in menu.items():\n",
    "    print(items,\"Rs.\",prices,'/-')\n",
    "    \n",
    "bill=0\n",
    "order=input(\"Give your order : \").split(\",\")\n",
    "for item in order:\n",
    "    if item in menu.keys():\n",
    "        if item=='Idly':\n",
    "           bill+=menu[item]\n",
    "        if item=='Chapati':\n",
    "            bill+=menu[item]\n",
    "        if item=='Dosa':\n",
    "            bill+=menu[item]\n",
    "        if item=='Noodles':\n",
    "            bill+=menu[item]\n",
    "        if item=='Gaare':\n",
    "            bill+=menu[item]\n",
    "        if item=='Roti':\n",
    "            bill+=menu[item]\n",
    "        if item=='Plate Meals':\n",
    "            bill+=menu[item]\n",
    "        if item=='Full Meals':\n",
    "            bill+=menu[item]\n",
    "        if item=='Any Cool Drink':\n",
    "            bill+=menu[item]\n",
    "        if item=='Pulihora':\n",
    "            bill+=menu[item]\n",
    "        if item=='Fried Rice':\n",
    "            bill+=menu[item]\n",
    "        if item=='Tea':\n",
    "            bill+=menu[item]\n",
    "        if item=='Coffee':\n",
    "            bill+=menu[item]\n",
    "    else:\n",
    "        print(\"Item not available.\")\n",
    "print(\"Total bill =\",'Rs.',bill,'/-')\n"
   ]
  },
  {
   "cell_type": "code",
   "execution_count": null,
   "metadata": {},
   "outputs": [],
   "source": []
  },
  {
   "cell_type": "code",
   "execution_count": 19,
   "metadata": {},
   "outputs": [
    {
     "name": "stdout",
     "output_type": "stream",
     "text": [
      "Items Available...\n",
      "\n",
      "('Idly', 25) ('Plate Meals', 50)\n",
      "('Roti', 30) ('Full Meals', 70)\n",
      "('Dosa', 30) ('Pulihora', 30)\n",
      "('Gaare', 25) ('Noodles', 40)\n",
      "('Chapathi', 25) ('Fried Rice', 40)\n"
     ]
    }
   ],
   "source": [
    "tfns={'Idly':25,'Roti':30,'Dosa':30,'Gaare':25,'Chapathi':25,}\n",
    "food_items={'Plate Meals':50,'Full Meals':70,'Pulihora':30,'Noodles':40,'Fried Rice':40}\n",
    "drinks={'Any Cool Drink':30,'Tea':10,'Coffee':15}\n",
    "print(\"Items Available...\\n\")\n",
    "for key,val in zip(tfns.items(),food_items.items()):\n",
    "    print(key,val)"
   ]
  },
  {
   "cell_type": "code",
   "execution_count": 1,
   "metadata": {},
   "outputs": [
    {
     "name": "stdout",
     "output_type": "stream",
     "text": [
      "Items Available...\n",
      "\n",
      "Idly Rs. 20 /-\n",
      "Dosa Rs. 30 /-\n",
      "Roti Rs. 25 /-\n",
      "Chapathi Rs. 30 /-\n",
      "Gaare Rs. 25 /-\n",
      "Plate Meals Rs. 50 /-\n",
      "Full Meals Rs. 70 /-\n",
      "Pulihora Rs. 30 /-\n",
      "Fried Rice Rs. 40 /-\n",
      "Noodles Rs. 40 /-\n",
      "Any Cool Drink Rs. 30 /-\n",
      "Tea Rs. 10 /-\n",
      "Coffee Rs. 15 /-\n",
      "Give your order:Idly,Tea\n",
      "Total bill= 50\n"
     ]
    }
   ],
   "source": [
    "items=['Idly','Dosa','Roti','Chapathi','Gaare','Plate Meals','Full Meals','Pulihora',\n",
    "       'Fried Rice','Noodles','Any Cool Drink','Tea','Coffee']\n",
    "prices=[20,30,25,30,25,50,70,30,40,40,30,10,15]\n",
    "print(\"Items Available...\\n\")\n",
    "for v,v2 in zip(items,prices):\n",
    "    print(v,'Rs.',v2,'/-')\n",
    "order=input(\"Give your order:\").split(',')\n",
    "bill=0\n",
    "for item,price in zip(order,prices):\n",
    "    if item in items:\n",
    "        if item=='Idly':\n",
    "            bill+=price\n",
    "        if item=='Dosa':\n",
    "            bill+=price\n",
    "        if item=='Roti':\n",
    "            bill+=price\n",
    "        if item=='Chapathi':\n",
    "            bill+=price\n",
    "        if item=='Gaare':\n",
    "            bill+=price\n",
    "        if item=='Plate Meals':\n",
    "            bill+=price\n",
    "        if item=='Full Meals':\n",
    "            bill+=price\n",
    "        if item=='Pulihora':\n",
    "            bill+=price\n",
    "        if item=='Fried Rice':\n",
    "            bill+=price\n",
    "        if item=='Noodles':\n",
    "            bill+=price\n",
    "        if item=='Any Cool Drink':\n",
    "            bill+=price\n",
    "        if item=='Tea':\n",
    "            bill+=price\n",
    "        if item=='Coffee':\n",
    "            bill+=price\n",
    "    else:\n",
    "        print(\"Oh ! No ! Item not avaialbe.\")\n",
    "print(\"Total bill=\",bill)"
   ]
  },
  {
   "cell_type": "code",
   "execution_count": null,
   "metadata": {},
   "outputs": [],
   "source": []
  },
  {
   "cell_type": "code",
   "execution_count": null,
   "metadata": {},
   "outputs": [],
   "source": []
  }
 ],
 "metadata": {
  "kernelspec": {
   "display_name": "Python 3",
   "language": "python",
   "name": "python3"
  },
  "language_info": {
   "codemirror_mode": {
    "name": "ipython",
    "version": 3
   },
   "file_extension": ".py",
   "mimetype": "text/x-python",
   "name": "python",
   "nbconvert_exporter": "python",
   "pygments_lexer": "ipython3",
   "version": "3.7.4"
  }
 },
 "nbformat": 4,
 "nbformat_minor": 2
}
